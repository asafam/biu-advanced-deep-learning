{
 "cells": [
  {
   "cell_type": "markdown",
   "metadata": {},
   "source": [
    "# RNN for text classification and text generation\n",
    "### Dr. Omri Allouche 2018. YData Deep Learning Course\n",
    "\n",
    "[Open in Google Colab](https://colab.research.google.com/github/omriallouche/deep_learning_course/blob/master/DL_rnn_text_classification_generation.ipynb)"
   ]
  },
  {
   "cell_type": "markdown",
   "metadata": {},
   "source": [
    "In the first part of this exercise, we’ll continue our attempts to classify text using different network architectures. This time, we’ll try a LSTM. We'll use the Metrolyrics dataset we used in the previous exercise.  \n",
    "\n",
    "You are encouraged to review the code in [this](https://github.com/prakashpandey9/Text-Classification-Pytorch) repo, that contains implementation of several deep learning architectures for text classification in PyTorch. If you face time limitations, you're welcome to adapt it to your needs instead of writing your own code from scratch.\n",
    "\n",
    "In the second part of this exercise, you'll unleash the hidden creativity of your computer, by letting it generate Country songs (yeehaw!). You'll train a character-level RNN-based language model, and use it to generate new songs.\n",
    "\n",
    "\n",
    "### Special Note\n",
    "Our Deep Learning course was packed with both theory and practice. In a short time, you've got to learn the basics of deep learning theory and get hands-on experience training and using pretrained DL networks, while learning PyTorch.  \n",
    "Past exercises required a lot of work, and hopefully gave you a sense of the challenges and difficulties one faces when using deep learning in the real world. While the investment you've made in the course so far is enormous, I strongly encourage you to take a stab at this exercise. \n",
    "\n",
    "DL networks for NLP are much shallower than those for image classification. It's possible to construct your own networks from scratch, and achieve nice results. While I hope the theoretical foundations of RNNs are clear after our class sessions, getting your hands dirty with their implementation in PyTorch allows you to set breakpoints, watch the dimensions of the different layers and components and get a much better understand of theory, in addition to code that might prove useful later for your own projects. \n",
    "\n",
    "I tried to provide references for all parts that walk you through a very similar task (actually, the same task on a different dataset). I expect this exercise to require much less of your time than previous exercises.\n",
    "\n",
    "The exercise is aimed to help you get better understanding of the concepts. I am not looking for the optimal model performance, and don't look for extensive optimization of hyperparameters. The task we face in this exercise, namely the classification of the song’s genre from its text alone, is quite challenging, and we probably shouldn’t expect great results from our classifier. Don’t let this discourage you - not every task reaches an f1 score of 90%+. \n",
    "\n",
    "In fact, some of the reasons I chose this dataset is because it highlights some of the issues we face in machine learning models in the real world. Examples include:\n",
    "- The classes are highly imbalanced - try to think how this affects the network learning\n",
    "- Given the small amount of data for some classes, you might actually prefer to remove them from the dataset. How would you decide that?\n",
    "- NLP tasks often involve preprocessing (lowercasing, tokenization, lemmatization, stopwords removal etc.). The decision on the actual preprocessing pipeline depends on the task, and is often influenced by our believes about the data and exploratory analysis of it. Thinking conciously about these questions helps you be a better data scientist\n",
    "- Some songs contain no lyrics (for example, they just contain the text \"instrumental\"). Others include non-English characters. You'll often need to preprocess your data and make decisions as to what your network should actually get as input (think - how should you treat newline characters?)\n",
    "- While model performance on this dataset are not amazing, we can try to answer interesting follow-up questions - which genres are more similar to each other and are often confused? Do genres become more similar through the years? ...\n",
    "\n",
    "More issues will probably pop up while you're working on this task. If you face technical difficulties or find a step in the process that takes too long, please let me know. It would also be great if you share with the class code you wrote that speeds up some of the work (for example, a data loader class, a parsed dataset etc.)"
   ]
  },
  {
   "cell_type": "markdown",
   "metadata": {},
   "source": [
    "## RNN for Text Classification\n",
    "In this section you'll write a text classifier using LSTM, to determine the genre of a song based on its lyrics.  \n",
    "The code needed for this section should be very similar to code you've written for the previous exercise, and use the same dataset.  "
   ]
  },
  {
   "cell_type": "markdown",
   "metadata": {},
   "source": [
    "#### Load the data"
   ]
  },
  {
   "cell_type": "code",
   "execution_count": 93,
   "metadata": {},
   "outputs": [],
   "source": [
    "import re\n",
    "import pandas as pd\n",
    "from time import time  # To time our operations\n",
    "from collections import defaultdict  # For word frequency\n",
    "\n",
    "import logging  # Setting up the loggings to monitor gensim\n",
    "logging.basicConfig(format=\"%(levelname)s - %(asctime)s: %(message)s\", datefmt= '%H:%M:%S', level=logging.INFO)"
   ]
  },
  {
   "cell_type": "code",
   "execution_count": 94,
   "metadata": {},
   "outputs": [],
   "source": [
    "# Load the data\n",
    "raw_data = pd.read_csv(\"380000-lyrics-from-metrolyrics.zip\")"
   ]
  },
  {
   "cell_type": "code",
   "execution_count": 194,
   "metadata": {},
   "outputs": [],
   "source": [
    "# suffle the data\n",
    "from sklearn.utils import shuffle\n",
    "\n",
    "raw_data = shuffle(raw_data)"
   ]
  },
  {
   "cell_type": "code",
   "execution_count": 195,
   "metadata": {},
   "outputs": [
    {
     "data": {
      "text/html": [
       "<div>\n",
       "<style scoped>\n",
       "    .dataframe tbody tr th:only-of-type {\n",
       "        vertical-align: middle;\n",
       "    }\n",
       "\n",
       "    .dataframe tbody tr th {\n",
       "        vertical-align: top;\n",
       "    }\n",
       "\n",
       "    .dataframe thead th {\n",
       "        text-align: right;\n",
       "    }\n",
       "</style>\n",
       "<table border=\"1\" class=\"dataframe\">\n",
       "  <thead>\n",
       "    <tr style=\"text-align: right;\">\n",
       "      <th></th>\n",
       "      <th>index</th>\n",
       "      <th>song</th>\n",
       "      <th>year</th>\n",
       "      <th>artist</th>\n",
       "      <th>genre</th>\n",
       "      <th>lyrics</th>\n",
       "    </tr>\n",
       "  </thead>\n",
       "  <tbody>\n",
       "    <tr>\n",
       "      <td>34751</td>\n",
       "      <td>34751</td>\n",
       "      <td>take-this-town</td>\n",
       "      <td>2006</td>\n",
       "      <td>bad-company</td>\n",
       "      <td>Rock</td>\n",
       "      <td>If you want my love, you got it\\nA little some...</td>\n",
       "    </tr>\n",
       "    <tr>\n",
       "      <td>338653</td>\n",
       "      <td>338653</td>\n",
       "      <td>games-people-play</td>\n",
       "      <td>2014</td>\n",
       "      <td>alan-parson-project</td>\n",
       "      <td>Rock</td>\n",
       "      <td>Where do we go from here now that all other ch...</td>\n",
       "    </tr>\n",
       "    <tr>\n",
       "      <td>304509</td>\n",
       "      <td>304509</td>\n",
       "      <td>je-poursuis-mon-bonheur</td>\n",
       "      <td>2013</td>\n",
       "      <td>daniel-baslanger</td>\n",
       "      <td>Other</td>\n",
       "      <td>NaN</td>\n",
       "    </tr>\n",
       "    <tr>\n",
       "      <td>50835</td>\n",
       "      <td>50835</td>\n",
       "      <td>foreign</td>\n",
       "      <td>2015</td>\n",
       "      <td>berner</td>\n",
       "      <td>Hip-Hop</td>\n",
       "      <td>NaN</td>\n",
       "    </tr>\n",
       "    <tr>\n",
       "      <td>17638</td>\n",
       "      <td>17638</td>\n",
       "      <td>all-i-ever-need</td>\n",
       "      <td>2014</td>\n",
       "      <td>caribou</td>\n",
       "      <td>Electronic</td>\n",
       "      <td>I can't take it\\nThe way you treat me wrong\\nI...</td>\n",
       "    </tr>\n",
       "    <tr>\n",
       "      <td>...</td>\n",
       "      <td>...</td>\n",
       "      <td>...</td>\n",
       "      <td>...</td>\n",
       "      <td>...</td>\n",
       "      <td>...</td>\n",
       "      <td>...</td>\n",
       "    </tr>\n",
       "    <tr>\n",
       "      <td>256399</td>\n",
       "      <td>256399</td>\n",
       "      <td>i-can-t</td>\n",
       "      <td>1997</td>\n",
       "      <td>debbie-gibson</td>\n",
       "      <td>Pop</td>\n",
       "      <td>Salut ma belle fille\\n[Hello beautiful/gorgeou...</td>\n",
       "    </tr>\n",
       "    <tr>\n",
       "      <td>106569</td>\n",
       "      <td>106569</td>\n",
       "      <td>home-for-the-holidays</td>\n",
       "      <td>1995</td>\n",
       "      <td>david-osborne</td>\n",
       "      <td>Other</td>\n",
       "      <td>NaN</td>\n",
       "    </tr>\n",
       "    <tr>\n",
       "      <td>356108</td>\n",
       "      <td>356108</td>\n",
       "      <td>so-what</td>\n",
       "      <td>2006</td>\n",
       "      <td>danity-kane</td>\n",
       "      <td>Pop</td>\n",
       "      <td>(Intro)\\nSo what you think you got a hold on m...</td>\n",
       "    </tr>\n",
       "    <tr>\n",
       "      <td>37189</td>\n",
       "      <td>37189</td>\n",
       "      <td>the-melody</td>\n",
       "      <td>2007</td>\n",
       "      <td>francesco-tristano</td>\n",
       "      <td>Electronic</td>\n",
       "      <td>NaN</td>\n",
       "    </tr>\n",
       "    <tr>\n",
       "      <td>25959</td>\n",
       "      <td>25959</td>\n",
       "      <td>preacher-s-daughter</td>\n",
       "      <td>2015</td>\n",
       "      <td>3-inches-of-blood</td>\n",
       "      <td>Metal</td>\n",
       "      <td>NaN</td>\n",
       "    </tr>\n",
       "  </tbody>\n",
       "</table>\n",
       "<p>196162 rows × 6 columns</p>\n",
       "</div>"
      ],
      "text/plain": [
       "         index                     song  year               artist  \\\n",
       "34751    34751           take-this-town  2006          bad-company   \n",
       "338653  338653        games-people-play  2014  alan-parson-project   \n",
       "304509  304509  je-poursuis-mon-bonheur  2013     daniel-baslanger   \n",
       "50835    50835                  foreign  2015               berner   \n",
       "17638    17638          all-i-ever-need  2014              caribou   \n",
       "...        ...                      ...   ...                  ...   \n",
       "256399  256399                  i-can-t  1997        debbie-gibson   \n",
       "106569  106569    home-for-the-holidays  1995        david-osborne   \n",
       "356108  356108                  so-what  2006          danity-kane   \n",
       "37189    37189               the-melody  2007   francesco-tristano   \n",
       "25959    25959      preacher-s-daughter  2015    3-inches-of-blood   \n",
       "\n",
       "             genre                                             lyrics  \n",
       "34751         Rock  If you want my love, you got it\\nA little some...  \n",
       "338653        Rock  Where do we go from here now that all other ch...  \n",
       "304509       Other                                                NaN  \n",
       "50835      Hip-Hop                                                NaN  \n",
       "17638   Electronic  I can't take it\\nThe way you treat me wrong\\nI...  \n",
       "...            ...                                                ...  \n",
       "256399         Pop  Salut ma belle fille\\n[Hello beautiful/gorgeou...  \n",
       "106569       Other                                                NaN  \n",
       "356108         Pop  (Intro)\\nSo what you think you got a hold on m...  \n",
       "37189   Electronic                                                NaN  \n",
       "25959        Metal                                                NaN  \n",
       "\n",
       "[196162 rows x 6 columns]"
      ]
     },
     "execution_count": 195,
     "metadata": {},
     "output_type": "execute_result"
    }
   ],
   "source": [
    "# Clean the data\n",
    "long_songs_idx = list(data.loc[data[\"lyrics\"].str.len() > 3]['index'])\n",
    "data = raw_data.iloc[long_songs_idx, :]\n",
    "data"
   ]
  },
  {
   "cell_type": "code",
   "execution_count": 196,
   "metadata": {},
   "outputs": [
    {
     "data": {
      "text/plain": [
       "Rock             70973\n",
       "Pop              26835\n",
       "Hip-Hop          18313\n",
       "Not Available    16173\n",
       "Metal            15429\n",
       "Other            12889\n",
       "Country           9360\n",
       "Jazz              9313\n",
       "Electronic        8815\n",
       "R&B               3220\n",
       "Indie             3103\n",
       "Folk              1739\n",
       "Name: genre, dtype: int64"
      ]
     },
     "execution_count": 196,
     "metadata": {},
     "output_type": "execute_result"
    }
   ],
   "source": [
    "genres_distribution = data['genre'].value_counts()\n",
    "genres_distribution"
   ]
  },
  {
   "cell_type": "code",
   "execution_count": 197,
   "metadata": {},
   "outputs": [
    {
     "data": {
      "text/plain": [
       "<matplotlib.axes._subplots.AxesSubplot at 0x13b4378d0>"
      ]
     },
     "execution_count": 197,
     "metadata": {},
     "output_type": "execute_result"
    },
    {
     "data": {
      "image/png": "[encoded data removed]",
      "text/plain": [
       "<Figure size 432x288 with 1 Axes>"
      ]
     },
     "metadata": {
      "needs_background": "light"
     },
     "output_type": "display_data"
    }
   ],
   "source": [
    "genres_distribution.plot.bar()"
   ]
  },
  {
   "cell_type": "code",
   "execution_count": 198,
   "metadata": {},
   "outputs": [
    {
     "name": "stdout",
     "output_type": "stream",
     "text": [
      "Songs with no lyrics is 95680 / 362237 = 0.264136463144295\n",
      "Instrumental songs is 80 / 362237 0.00022084988557215303%\n"
     ]
    }
   ],
   "source": [
    "data_missing_lyrics = raw_data[raw_data['lyrics'].isnull()]\n",
    "print(f\"Songs with no lyrics is {len(data_missing_lyrics)} / {len(raw_data['lyrics'])} = {len(data_missing_lyrics) / len(raw_data['lyrics'])}\")\n",
    "      \n",
    "data_instrumental_lyrics = raw_data[raw_data['lyrics'] == \"instrumental\"]\n",
    "print(f\"Instrumental songs is {len(data_instrumental_lyrics)} / {len(raw_data['lyrics'])} {len(data_instrumental_lyrics) / len(raw_data['lyrics'])}%\")"
   ]
  },
  {
   "cell_type": "code",
   "execution_count": 199,
   "metadata": {},
   "outputs": [],
   "source": [
    "data = data[data['lyrics'].notnull()]"
   ]
  },
  {
   "cell_type": "markdown",
   "metadata": {},
   "source": [
    "### Split the data to train and test"
   ]
  },
  {
   "cell_type": "code",
   "execution_count": 200,
   "metadata": {},
   "outputs": [],
   "source": [
    "import numpy as np\n",
    "\n",
    "PAD = \"<pad>\"\n",
    "w2v_model.wv[\"<pad>\"] = np.zeros(300,)"
   ]
  },
  {
   "cell_type": "code",
   "execution_count": 201,
   "metadata": {},
   "outputs": [],
   "source": [
    "import re\n",
    "from nltk.corpus import stopwords\n",
    "\n",
    "def process_document(text, remove_panctuations=True, \n",
    "                        remove_stopwords=True, remove_unknown_words=True, fix_length=200):\n",
    "    \n",
    "    if remove_panctuations:\n",
    "      text = re.sub(\"[^a-zA-Z0-9]\",\" \", text)\n",
    "    #\n",
    "    # Convert words to lower case and split them\n",
    "    words = text.lower().split()\n",
    "    #\n",
    "    # Optionally remove stop words (false by default)\n",
    "    if remove_stopwords:\n",
    "        stops = set(stopwords.words(\"english\"))\n",
    "        words = [w for w in words if not w.lower() in stops]  \n",
    "        \n",
    "    if remove_unknown_words:\n",
    "        words = [w for w in words if w in w2v_model.wv]\n",
    "        \n",
    "    if len(words) < fix_length:\n",
    "        words += ([PAD] * (fix_length - len(words)))\n",
    "    elif len(words) > fix_length:\n",
    "        words = words[:fix_length]\n",
    "        \n",
    "#     processed_document = \" \".join(words)\n",
    "    return words"
   ]
  },
  {
   "cell_type": "code",
   "execution_count": 202,
   "metadata": {},
   "outputs": [],
   "source": [
    "def tokenizer(text): # create a tokenizer function\n",
    "    return process_document(text) #[tok.text for tok in spacy_en.tokenizer(process_document(text))]"
   ]
  },
  {
   "cell_type": "code",
   "execution_count": 203,
   "metadata": {},
   "outputs": [
    {
     "data": {
      "text/plain": [
       "array([9, 9, 9, ..., 0, 0, 0])"
      ]
     },
     "execution_count": 203,
     "metadata": {},
     "output_type": "execute_result"
    }
   ],
   "source": [
    "from sklearn.preprocessing import LabelBinarizer\n",
    "ohe = LabelBinarizer()\n",
    "ohe.fit_transform(valid_data['genre'].values)\n",
    "\n",
    "def one_hot_encoding(label):\n",
    "    vec = ohe.transform([label])[0]\n",
    "    return vec\n",
    "\n",
    "\n",
    "\n",
    "# Import LabelEncoder\n",
    "from sklearn import preprocessing\n",
    "\n",
    "# creating labelEncoder\n",
    "le = preprocessing.LabelEncoder()\n",
    "\n",
    "# Converting string labels into numbers.\n",
    "genres_encoded = le.fit_transform(valid_data[\"genre\"])\n",
    "genres_encoded"
   ]
  },
  {
   "cell_type": "code",
   "execution_count": 204,
   "metadata": {},
   "outputs": [],
   "source": [
    "from torch.utils.data import Dataset, DataLoader, random_split"
   ]
  },
  {
   "cell_type": "code",
   "execution_count": 205,
   "metadata": {},
   "outputs": [],
   "source": [
    "class SongsDataset(Dataset):\n",
    "    \"\"\"Face Landmarks dataset.\"\"\"\n",
    "\n",
    "    def __init__(self, df):\n",
    "        \"\"\"\n",
    "        Args:\n",
    "            df (pandas.DataFrame): DataFrame object\n",
    "        \"\"\"\n",
    "        self.texts = df['lyrics'].values\n",
    "        self.labels = df['genre'].values\n",
    "\n",
    "    def __len__(self):\n",
    "        return len(self.labels)\n",
    "\n",
    "    def __getitem__(self, idx):\n",
    "        text = self.texts[idx]\n",
    "        text = tokenizer(text)\n",
    "        text = [w2v_model.wv.vocab[word].index for word in text]\n",
    "        label = self.labels[idx]\n",
    "        label = one_hot_encoding(label)\n",
    "\n",
    "        sample = (torch.tensor(text), torch.tensor(label))\n",
    "\n",
    "        return sample"
   ]
  },
  {
   "cell_type": "code",
   "execution_count": 211,
   "metadata": {},
   "outputs": [
    {
     "data": {
      "text/plain": [
       "(tensor([12113,  1994,  1753,   859,  3277,  1753,   674,  3355,   275,  1198,\n",
       "         20669,  1753,   773,   436,  5040,  6304,   275, 11460,   568,  1931,\n",
       "          4745,  7434,   275,  1056,  2602,  8487,  2741,  3077,  8688,   829,\n",
       "          2603,   220,   275,  1198,   597,   529,   246,  7161, 16292,  1056,\n",
       "           275, 11460,  1056,   773, 11801,   275,  1198,   597, 25871,   597,\n",
       "          1056, 24365,   275,  1198,   147,  4871,   943,  2603, 12196,   275,\n",
       "          1198,   523,   523,  1056, 12826,  1314, 14523,   357,  2495, 29972,\n",
       "         29972, 29972, 29972, 29972, 29972, 29972, 29972, 29972, 29972, 29972,\n",
       "         29972, 29972, 29972, 29972, 29972, 29972, 29972, 29972, 29972, 29972,\n",
       "         29972, 29972, 29972, 29972, 29972, 29972, 29972, 29972, 29972, 29972,\n",
       "         29972, 29972, 29972, 29972, 29972, 29972, 29972, 29972, 29972, 29972,\n",
       "         29972, 29972, 29972, 29972, 29972, 29972, 29972, 29972, 29972, 29972,\n",
       "         29972, 29972, 29972, 29972, 29972, 29972, 29972, 29972, 29972, 29972,\n",
       "         29972, 29972, 29972, 29972, 29972, 29972, 29972, 29972, 29972, 29972,\n",
       "         29972, 29972, 29972, 29972, 29972, 29972, 29972, 29972, 29972, 29972,\n",
       "         29972, 29972, 29972, 29972, 29972, 29972, 29972, 29972, 29972, 29972,\n",
       "         29972, 29972, 29972, 29972, 29972, 29972, 29972, 29972, 29972, 29972,\n",
       "         29972, 29972, 29972, 29972, 29972, 29972, 29972, 29972, 29972, 29972,\n",
       "         29972, 29972, 29972, 29972, 29972, 29972, 29972, 29972, 29972, 29972,\n",
       "         29972, 29972, 29972, 29972, 29972, 29972, 29972, 29972, 29972, 29972]),\n",
       " tensor([0, 0, 0, 0, 0, 0, 0, 0, 0, 0, 0, 1]))"
      ]
     },
     "execution_count": 211,
     "metadata": {},
     "output_type": "execute_result"
    }
   ],
   "source": [
    "dataset = SongsDataset(data[:1000])\n",
    "\n",
    "train_size = int(0.8 * len(dataset))\n",
    "val_size = len(dataset) - train_size\n",
    "train_data, val_data = random_split(dataset, [train_size, val_size])\n",
    "\n",
    "train_loader = DataLoader(train_data, batch_size=8, shuffle=True)\n",
    "val_loader = DataLoader(val_data, batch_size=8, shuffle=True)\n",
    "\n",
    "dataset.__getitem__(99)"
   ]
  },
  {
   "cell_type": "markdown",
   "metadata": {},
   "source": [
    "#### Model definition"
   ]
  },
  {
   "cell_type": "code",
   "execution_count": 212,
   "metadata": {},
   "outputs": [],
   "source": [
    "import torch\n",
    "import torch.nn as nn\n",
    "from torch.autograd import Variable\n",
    "from torch.nn import functional as F\n",
    "\n",
    "class LSTMClassifier(nn.Module):\n",
    "    def __init__(self, batch_size, output_size, hidden_size, vocab_size, embedding_length, weights, freeze_embeddings=False):\n",
    "        super(LSTMClassifier, self).__init__()\n",
    "\n",
    "        \"\"\"\n",
    "        Arguments\n",
    "        ---------\n",
    "        batch_size : Size of the batch which is same as the batch_size of the data returned by the TorchText BucketIterator\n",
    "        output_size : 2 = (pos, neg)\n",
    "        hidden_sie : Size of the hidden_state of the LSTM\n",
    "        vocab_size : Size of the vocabulary containing unique words\n",
    "        embedding_length : Embeddding dimension of GloVe word embeddings\n",
    "        weights : Pre-trained GloVe word_embeddings which we will use to create our word_embedding look-up table \n",
    "\n",
    "        \"\"\"\n",
    "\n",
    "        self.batch_size = batch_size\n",
    "        self.output_size = output_size\n",
    "        self.hidden_size = hidden_size\n",
    "        self.vocab_size = vocab_size\n",
    "        self.embedding_length = embedding_length\n",
    "        \n",
    "        self.word_embeddings = nn.Embedding.from_pretrained(torch.FloatTensor(weights), freeze=freeze_embeddings)\n",
    "#         self.word_embeddings = nn.Embedding(vocab_size, embedding_length)# Initializing the look-up table.\n",
    "#         self.word_embeddings.weight = nn.Parameter(weights, requires_grad=False) # Assigning the look-up table to the pre-trained GloVe word embedding.\n",
    "        self.lstm = nn.LSTM(embedding_length, hidden_size)\n",
    "        self.label = nn.Linear(hidden_size, output_size)\n",
    "\n",
    "    def forward(self, input_sentence, batch_size=None):\n",
    "\n",
    "        \"\"\" \n",
    "        Parameters\n",
    "        ----------\n",
    "        input_sentence: input_sentence of shape = (batch_size, num_sequences)\n",
    "        batch_size : default = None. Used only for prediction on a single sentence after training (batch_size = 1)\n",
    "        \n",
    "        Returns\n",
    "        -------\n",
    "        Output of the linear layer containing logits for positive & negative class which receives its input as the final_hidden_state of the LSTM\n",
    "        final_output.shape = (batch_size, output_size)\n",
    "        \n",
    "        \"\"\"\n",
    "        \n",
    "        ''' Here we will map all the indexes present in the input sequence to the corresponding word vector using our pre-trained word_embedddins.'''\n",
    "        input = self.word_embeddings(input_sentence) # embedded input of shape = (batch_size, num_sequences,  embedding_length)\n",
    "        input = input.permute(1, 0, 2) # input.size() = (num_sequences, batch_size, embedding_length)\n",
    "\n",
    "        if batch_size is None:\n",
    "            h_0 = torch.zeros(1, self.batch_size, self.hidden_size) # Initial hidden state of the LSTM\n",
    "            c_0 = torch.zeros(1, self.batch_size, self.hidden_size) # Initial cell state of the LSTM\n",
    "        else:\n",
    "            h_0 = torch.zeros(1, batch_size, self.hidden_size)\n",
    "            c_0 = torch.zeros(1, batch_size, self.hidden_size)\n",
    "        output, (final_hidden_state, final_cell_state) = self.lstm(input, (h_0, c_0))\n",
    "        final_output = self.label(final_hidden_state[-1]) # final_hidden_state.size() = (1, batch_size, hidden_size) & final_output.size() = (batch_size, output_size)\n",
    "    \n",
    "        return final_output"
   ]
  },
  {
   "cell_type": "markdown",
   "metadata": {},
   "source": [
    "#### Instantiate the model"
   ]
  },
  {
   "cell_type": "code",
   "execution_count": 213,
   "metadata": {},
   "outputs": [],
   "source": [
    "NUM_CLASSES = 12 # 12 genres of songs\n",
    "DROPOUT = 0.25\n",
    "VOCAB_SIZE = len(w2v_model.wv.vocab)\n",
    "EMBED_DIM = 300\n",
    "HIDDEN_SIZE=256\n",
    "BATCH_SIZE=8\n",
    "weights =  w2v_model.wv.vectors #TEXT.vocab.vectors\n",
    "\n",
    "model = LSTMClassifier(batch_size=BATCH_SIZE, output_size=NUM_CLASSES, hidden_size=HIDDEN_SIZE, \n",
    "                       vocab_size=VOCAB_SIZE, embedding_length=EMBED_DIM, weights=weights)"
   ]
  },
  {
   "cell_type": "markdown",
   "metadata": {},
   "source": [
    "#### Functions to train and evaluate the model"
   ]
  },
  {
   "cell_type": "code",
   "execution_count": 214,
   "metadata": {},
   "outputs": [],
   "source": [
    "def binary_accuracy(preds, y):\n",
    "    \"\"\"\n",
    "    Returns accuracy per batch, i.e. if you get 8/10 right, this returns 0.8, NOT 8\n",
    "    \"\"\"\n",
    "    \n",
    "    probs = torch.softmax(preds, dim=1)\n",
    "    winners = probs.argmax(dim=1)\n",
    "    correct = (winners == y.argmax(dim=1)).float() #convert into float for division \n",
    "\n",
    "    acc = correct.sum() / len(correct)\n",
    "    return acc\n",
    "\n",
    "def train(model, loader, optimizer, criterion):\n",
    "    \n",
    "    epoch_loss = 0\n",
    "    epoch_acc = 0\n",
    "    \n",
    "    model.train()\n",
    "    \n",
    "    for index, batch in enumerate(loader):\n",
    "        \n",
    "        # handle case where one of the batches is of size that is smaller than declared batch size\n",
    "        # todo!!!\n",
    "        \n",
    "        optimizer.zero_grad()\n",
    "        \n",
    "        predictions = model(batch[0]).squeeze(1)\n",
    "        \n",
    "        loss = criterion(predictions, batch[1])\n",
    "        \n",
    "        acc = binary_accuracy(predictions, batch[1])\n",
    "        \n",
    "        loss.backward()\n",
    "        \n",
    "        optimizer.step()\n",
    "        \n",
    "        epoch_loss += loss.item()\n",
    "        epoch_acc += acc.item()\n",
    "        \n",
    "    return epoch_loss / len(loader), epoch_acc / len(loader)\n",
    "\n",
    "def evaluate(model, loader, criterion):\n",
    "    \n",
    "    epoch_loss = 0\n",
    "    epoch_acc = 0\n",
    "    \n",
    "    model.eval()\n",
    "    \n",
    "    with torch.no_grad():\n",
    "    \n",
    "        for index, batch in enumerate(loader):\n",
    "\n",
    "            predictions = model(batch[0]).squeeze(1)\n",
    "            \n",
    "            loss = criterion(predictions, batch[1])\n",
    "            \n",
    "            acc = binary_accuracy(predictions, batch[1])\n",
    "\n",
    "            epoch_loss += loss.item()\n",
    "            epoch_acc += acc.item()\n",
    "        \n",
    "    return epoch_loss / len(loader), epoch_acc / len(loader)\n",
    "\n",
    "import time\n",
    "\n",
    "def epoch_time(start_time, end_time):\n",
    "    elapsed_time = end_time - start_time\n",
    "    elapsed_mins = int(elapsed_time / 60)\n",
    "    elapsed_secs = int(elapsed_time - (elapsed_mins * 60))\n",
    "    return elapsed_mins, elapsed_secs"
   ]
  },
  {
   "cell_type": "markdown",
   "metadata": {},
   "source": [
    "### Training the model"
   ]
  },
  {
   "cell_type": "code",
   "execution_count": 215,
   "metadata": {},
   "outputs": [
    {
     "name": "stdout",
     "output_type": "stream",
     "text": [
      "Epoch: 01 | Epoch Time: 0m 30s\n",
      "\tTrain Loss: 0.279 | Train Acc: 38.75%\n",
      "\t Val. Loss: 0.227 |  Val. Acc: 44.50%\n",
      "Epoch: 02 | Epoch Time: 0m 25s\n",
      "\tTrain Loss: 0.238 | Train Acc: 39.75%\n",
      "\t Val. Loss: 0.224 |  Val. Acc: 44.50%\n",
      "Epoch: 03 | Epoch Time: 0m 26s\n",
      "\tTrain Loss: 0.231 | Train Acc: 41.50%\n",
      "\t Val. Loss: 0.224 |  Val. Acc: 45.50%\n",
      "Epoch: 04 | Epoch Time: 0m 25s\n",
      "\tTrain Loss: 0.223 | Train Acc: 45.12%\n",
      "\t Val. Loss: 0.218 |  Val. Acc: 49.00%\n",
      "Epoch: 05 | Epoch Time: 0m 26s\n",
      "\tTrain Loss: 0.218 | Train Acc: 45.75%\n",
      "\t Val. Loss: 0.215 |  Val. Acc: 48.50%\n",
      "Epoch: 06 | Epoch Time: 0m 28s\n",
      "\tTrain Loss: 0.216 | Train Acc: 45.75%\n",
      "\t Val. Loss: 0.215 |  Val. Acc: 51.50%\n",
      "Epoch: 07 | Epoch Time: 0m 31s\n",
      "\tTrain Loss: 0.214 | Train Acc: 47.00%\n",
      "\t Val. Loss: 0.219 |  Val. Acc: 48.00%\n",
      "Epoch: 08 | Epoch Time: 0m 27s\n",
      "\tTrain Loss: 0.213 | Train Acc: 47.50%\n",
      "\t Val. Loss: 0.219 |  Val. Acc: 50.50%\n",
      "Epoch: 09 | Epoch Time: 0m 27s\n",
      "\tTrain Loss: 0.211 | Train Acc: 48.25%\n",
      "\t Val. Loss: 0.221 |  Val. Acc: 51.00%\n",
      "Epoch: 10 | Epoch Time: 0m 27s\n",
      "\tTrain Loss: 0.211 | Train Acc: 48.75%\n",
      "\t Val. Loss: 0.219 |  Val. Acc: 50.50%\n",
      "Epoch: 11 | Epoch Time: 0m 26s\n",
      "\tTrain Loss: 0.209 | Train Acc: 48.88%\n",
      "\t Val. Loss: 0.221 |  Val. Acc: 51.00%\n",
      "Epoch: 12 | Epoch Time: 0m 29s\n",
      "\tTrain Loss: 0.207 | Train Acc: 49.00%\n",
      "\t Val. Loss: 0.222 |  Val. Acc: 51.50%\n",
      "Epoch: 13 | Epoch Time: 0m 29s\n",
      "\tTrain Loss: 0.206 | Train Acc: 49.25%\n",
      "\t Val. Loss: 0.212 |  Val. Acc: 51.00%\n",
      "Epoch: 14 | Epoch Time: 0m 29s\n",
      "\tTrain Loss: 0.199 | Train Acc: 50.38%\n",
      "\t Val. Loss: 0.217 |  Val. Acc: 46.00%\n",
      "Epoch: 15 | Epoch Time: 0m 26s\n",
      "\tTrain Loss: 0.190 | Train Acc: 54.25%\n",
      "\t Val. Loss: 0.221 |  Val. Acc: 44.50%\n"
     ]
    }
   ],
   "source": [
    "import torch.optim as optim\n",
    "\n",
    "N_EPOCHS = 15\n",
    "\n",
    "optimizer = optim.Adam(model.parameters())\n",
    "criterion = nn.MultiLabelSoftMarginLoss()\n",
    "\n",
    "best_val_loss = float('inf')\n",
    "\n",
    "all_train_losses = []\n",
    "all_val_losses = []\n",
    "train_accuracy = []\n",
    "val_accuracy = []\n",
    "\n",
    "for epoch in range(N_EPOCHS):\n",
    "\n",
    "    start_time = time.time()\n",
    "    \n",
    "    train_loss, train_acc = train(model, train_loader, optimizer, criterion)\n",
    "    all_train_losses.append(train_loss)\n",
    "    train_accuracy.append(train_acc)\n",
    "\n",
    "    val_loss, val_acc = evaluate(model, val_loader, criterion)\n",
    "    all_val_losses.append(val_loss)\n",
    "    val_accuracy.append(val_acc)\n",
    "    \n",
    "    end_time = time.time()\n",
    "\n",
    "    epoch_mins, epoch_secs = epoch_time(start_time, end_time)\n",
    "    \n",
    "    if val_loss < best_val_loss:\n",
    "        best_val_loss = val_loss\n",
    "        torch.save(model.state_dict(), 'best-model.model')\n",
    "    \n",
    "    print(f'Epoch: {epoch+1:02} | Epoch Time: {epoch_mins}m {epoch_secs}s')\n",
    "    print(f'\\tTrain Loss: {train_loss:.3f} | Train Acc: {train_acc*100:.2f}%')\n",
    "    print(f'\\t Val. Loss: {val_loss:.3f} |  Val. Acc: {val_acc*100:.2f}%')"
   ]
  },
  {
   "cell_type": "code",
   "execution_count": 216,
   "metadata": {},
   "outputs": [
    {
     "data": {
      "image/png": "[encoded data removed]",
      "text/plain": [
       "<Figure size 432x288 with 1 Axes>"
      ]
     },
     "metadata": {
      "needs_background": "light"
     },
     "output_type": "display_data"
    }
   ],
   "source": [
    "import matplotlib.pyplot as plt\n",
    "import matplotlib.ticker as ticker\n",
    "\n",
    "plt.figure()\n",
    "plt.plot(all_train_losses, 'r')\n",
    "plt.plot(all_val_losses, 'g')\n",
    "plt.plot(train_accuracy, 'b')\n",
    "plt.plot(val_accuracy, 'y')\n",
    "plt.show()"
   ]
  },
  {
   "cell_type": "markdown",
   "metadata": {},
   "source": [
    "## RNN for Text Generation\n",
    "In this section, we'll use an LSTM to generate new songs. You can pick any genre you like, or just use all genres. You can even try to generate songs in the style of a certain artist - remember that the Metrolyrics dataset contains the author of each song. \n",
    "\n",
    "For this, we’ll first train a character-based language model. We’ve mostly discussed in class the usage of RNNs to predict the next word given past words, but as we’ve mentioned in class, RNNs can also be used to learn sequences of characters.\n",
    "\n",
    "First, please go through the [PyTorch tutorial](https://pytorch.org/tutorials/intermediate/char_rnn_generation_tutorial.html) on generating family names. You can download a .py file or a jupyter notebook with the entire code of the tutorial. \n",
    "\n",
    "As a reminder of topics we've discussed in class, see Andrej Karpathy's popular blog post [\"The Unreasonable Effectiveness of Recurrent Neural Networks\"](http://karpathy.github.io/2015/05/21/rnn-effectiveness/). You are also encouraged to view [this](https://gist.github.com/karpathy/d4dee566867f8291f086) vanilla implementation of a character-level RNN, written in numpy with just 100 lines of code, including the forward and backward passes.  \n",
    "\n",
    "Other tutorials that might prove useful:\n",
    "1. http://warmspringwinds.github.io/pytorch/rnns/2018/01/27/learning-to-generate-lyrics-and-music-with-recurrent-neural-networks/\n",
    "1. https://github.com/mcleonard/pytorch-charRNN\n",
    "1. https://github.com/spro/practical-pytorch/blob/master/char-rnn-generation/char-rnn-generation.ipynb"
   ]
  },
  {
   "cell_type": "markdown",
   "metadata": {},
   "source": [
    "### Load the data"
   ]
  },
  {
   "cell_type": "code",
   "execution_count": 60,
   "metadata": {},
   "outputs": [],
   "source": [
    "# Load the data from csv\n",
    "import pandas as pd\n",
    "\n",
    "raw_data = pd.read_csv(\"380000-lyrics-from-metrolyrics.zip\")"
   ]
  },
  {
   "cell_type": "code",
   "execution_count": 61,
   "metadata": {},
   "outputs": [
    {
     "name": "stdout",
     "output_type": "stream",
     "text": [
      "                                                   lyrics    genre\n",
      "0       Oh baby, how you doing?\\nYou know I'm gonna cu...      Pop\n",
      "1       playin' everything so easy,\\nit's like you see...      Pop\n",
      "2       If you search\\nFor tenderness\\nIt isn't hard t...      Pop\n",
      "3       Oh oh oh I, oh oh oh I\\n[Verse 1:]\\nIf I wrote...      Pop\n",
      "4       Party the people, the people the party it's po...      Pop\n",
      "...                                                   ...      ...\n",
      "362232  I gotta say\\nBoy, after only just a couple of ...  Country\n",
      "362233  I helped you find her diamond ring\\nYou made m...  Country\n",
      "362234  Look at the couple in the corner booth\\nLooks ...  Country\n",
      "362235  When I fly off this mortal earth\\nAnd I'm meas...  Country\n",
      "362236  I heard from a friend of a friend of a friend ...  Country\n",
      "\n",
      "[362237 rows x 2 columns]\n",
      "                                                   lyrics genre\n",
      "0       Oh baby, how you doing?\\nYou know I'm gonna cu...   Pop\n",
      "1       playin' everything so easy,\\nit's like you see...   Pop\n",
      "2       If you search\\nFor tenderness\\nIt isn't hard t...   Pop\n",
      "3       Oh oh oh I, oh oh oh I\\n[Verse 1:]\\nIf I wrote...   Pop\n",
      "4       Party the people, the people the party it's po...   Pop\n",
      "...                                                   ...   ...\n",
      "362210  When the photographs you're taking now\\nAre ta...   Pop\n",
      "362211  I met Moko jumbie,\\nHe walks on stilts through...   Pop\n",
      "362212  Chill on the hollow ponds\\nSet sail by a kid\\n...   Pop\n",
      "362213  Celebrate the passing drugs\\nPut them on the b...   Pop\n",
      "362214  When the serve is done\\nAnd the parish shuffle...   Pop\n",
      "\n",
      "[49444 rows x 2 columns]\n"
     ]
    }
   ],
   "source": [
    "# let's see the data: browse through different songe genres:\n",
    "print(raw_data[['lyrics', 'genre']])\n",
    "\n",
    "print(raw_data[raw_data['genre'] == 'Pop'][['lyrics', 'genre']])"
   ]
  },
  {
   "cell_type": "code",
   "execution_count": 90,
   "metadata": {},
   "outputs": [
    {
     "data": {
      "text/plain": [
       "362237"
      ]
     },
     "execution_count": 90,
     "metadata": {},
     "output_type": "execute_result"
    }
   ],
   "source": [
    "len(raw_data.dropna(subset=['genre']))"
   ]
  },
  {
   "cell_type": "code",
   "execution_count": 87,
   "metadata": {},
   "outputs": [
    {
     "data": {
      "text/plain": [
       "362237"
      ]
     },
     "execution_count": 87,
     "metadata": {},
     "output_type": "execute_result"
    }
   ],
   "source": [
    "len(raw_data)"
   ]
  },
  {
   "cell_type": "code",
   "execution_count": 55,
   "metadata": {},
   "outputs": [
    {
     "data": {
      "text/plain": [
       "<matplotlib.axes._subplots.AxesSubplot at 0x12fee66d8>"
      ]
     },
     "execution_count": 55,
     "metadata": {},
     "output_type": "execute_result"
    },
    {
     "data": {
      "image/png": "[encoded data removed]",
      "text/plain": [
       "<Figure size 432x288 with 1 Axes>"
      ]
     },
     "metadata": {
      "needs_background": "light"
     },
     "output_type": "display_data"
    }
   ],
   "source": [
    "genres_distribution = data['genre'].value_counts()\n",
    "genres_distribution.plot.bar()"
   ]
  },
  {
   "cell_type": "code",
   "execution_count": 88,
   "metadata": {},
   "outputs": [
    {
     "data": {
      "text/plain": [
       "0         384\n",
       "1         220\n",
       "2         116\n",
       "3         436\n",
       "4         280\n",
       "         ... \n",
       "362232    280\n",
       "362233    175\n",
       "362234    213\n",
       "362235    145\n",
       "362236    287\n",
       "Name: lyrics, Length: 266556, dtype: int64"
      ]
     },
     "execution_count": 88,
     "metadata": {},
     "output_type": "execute_result"
    }
   ],
   "source": [
    "(raw_data.dropna())['lyrics'].apply(lambda lyrics: len(lyrics.split(\" \")) if lyrics is not None else 0)\n"
   ]
  },
  {
   "cell_type": "markdown",
   "metadata": {},
   "source": [
    "### Data engineering"
   ]
  },
  {
   "cell_type": "code",
   "execution_count": 54,
   "metadata": {},
   "outputs": [
    {
     "name": "stderr",
     "output_type": "stream",
     "text": [
      "INFO - 18:06:35: 'pattern' package not found; tag filters are not available for English\n",
      "INFO - 18:06:35: loading Word2Vec object from 300features_40minwords_10context\n",
      "INFO - 18:06:36: loading wv recursively from 300features_40minwords_10context.wv.* with mmap=None\n",
      "INFO - 18:06:36: setting ignored attribute vectors_norm to None\n",
      "INFO - 18:06:36: loading vocabulary recursively from 300features_40minwords_10context.vocabulary.* with mmap=None\n",
      "INFO - 18:06:36: loading trainables recursively from 300features_40minwords_10context.trainables.* with mmap=None\n",
      "INFO - 18:06:36: setting ignored attribute cum_table to None\n",
      "INFO - 18:06:36: loaded 300features_40minwords_10context\n"
     ]
    }
   ],
   "source": [
    "from gensim.models import Word2Vec\n",
    "\n",
    "# load the w2v model\n",
    "w2v_model = Word2Vec.load(\"300features_40minwords_10context.wv.model\")"
   ]
  },
  {
   "cell_type": "code",
   "execution_count": null,
   "metadata": {},
   "outputs": [],
   "source": [
    "def process_document(text, remove_panctuations=True, \n",
    "                        remove_stopwords=True, remove_unknown=True, padding=300):\n",
    "    if remove_panctuations:\n",
    "      text = re.sub(\"[^a-zA-Z0-9]\",\" \", text)\n",
    "    #\n",
    "    # Convert words to lower case and split them\n",
    "    words = text.lower().split()\n",
    "    #\n",
    "    # Optionally remove stop words (false by default)\n",
    "    if remove_stopwords:\n",
    "        stops = set(stopwords.words(\"english\"))\n",
    "        words = [w for w in words if not w.lower() in stops]  \n",
    "        \n",
    "    if remove_unknown:\n",
    "        words = [w for w in words if w in w2v_model.wv]\n",
    "    \n",
    "    if padding > 0 and len(words) < padding:\n",
    "        words += ([PAD] * (padding - len(words)))\n",
    "    elif padding > 0 and len(words) > padding:\n",
    "        words = words[:padding]\n",
    "        \n",
    "#     processed_document = \" \".join(words)\n",
    "    return words"
   ]
  },
  {
   "cell_type": "code",
   "execution_count": null,
   "metadata": {},
   "outputs": [],
   "source": [
    "def decode_word(word):\n",
    "    if :\n",
    "        None\n",
    "\n",
    "def decode_lyrics(words):\n",
    "    w\n",
    "    "
   ]
  },
  {
   "cell_type": "code",
   "execution_count": null,
   "metadata": {},
   "outputs": [],
   "source": [
    "# add new words in each song lyrics for <start>: start of song, <eos>: end of song, <eol>: end of line\n",
    "START = '<start>'\n",
    "END = '<eos>'\n",
    "EOL = '<eol>'\n",
    "unk = '<unk'>\n",
    "\n",
    "w2v.wv.vocab[]\n",
    "data['lyrics2'] = data['lyrics'].apply(lambda txt: process_document(t, remove_stopwords=False, remove_unknown=False))\n",
    "\n",
    "# let's add special new word for <instrumental> to represent instrumental songs\n",
    "w2v.wv.vocab[]\n",
    "\n",
    "# let's not forget to add the new words to our w2v vocab (and one more for <unk>: unknown)\n",
    "w2v_model.wv[\"<pad>\"] = np.z\n",
    "\n",
    "# now that we've done that let's code our lyrics to the corresponding vocab index"
   ]
  },
  {
   "cell_type": "code",
   "execution_count": 92,
   "metadata": {},
   "outputs": [
    {
     "ename": "KeyError",
     "evalue": "1",
     "output_type": "error",
     "traceback": [
      "\u001b[0;31m---------------------------------------------------------------------------\u001b[0m",
      "\u001b[0;31mKeyError\u001b[0m                                  Traceback (most recent call last)",
      "\u001b[0;32m<ipython-input-92-fd1599ffbd0e>\u001b[0m in \u001b[0;36m<module>\u001b[0;34m\u001b[0m\n\u001b[0;32m----> 1\u001b[0;31m \u001b[0mw2v_model\u001b[0m\u001b[0;34m.\u001b[0m\u001b[0mwv\u001b[0m\u001b[0;34m.\u001b[0m\u001b[0mvocab\u001b[0m\u001b[0;34m[\u001b[0m\u001b[0;36m1\u001b[0m\u001b[0;34m]\u001b[0m\u001b[0;34m\u001b[0m\u001b[0;34m\u001b[0m\u001b[0m\n\u001b[0m",
      "\u001b[0;31mKeyError\u001b[0m: 1"
     ]
    }
   ],
   "source": [
    "w2v_model.wv.vocab[1]"
   ]
  },
  {
   "cell_type": "markdown",
   "metadata": {},
   "source": [
    "### Model definition"
   ]
  },
  {
   "cell_type": "code",
   "execution_count": null,
   "metadata": {},
   "outputs": [],
   "source": [
    "class LSTM2(nn.Module):\n",
    "    def __init__(self, n_vocab, seq_size, embedding_size, lstm_size):\n",
    "        super(RNNModule, self).__init__()\n",
    "        self.seq_size = seq_size\n",
    "        self.lstm_size = lstm_size\n",
    "        self.embedding = nn.Embedding(n_vocab, embedding_size)\n",
    "        self.lstm = nn.LSTM(embedding_size,\n",
    "                            lstm_size,\n",
    "                            batch_first=True)\n",
    "        self.dense = nn.Linear(lstm_size, n_vocab)\n",
    "        \n",
    "    def forward(self, x, prev_state):\n",
    "        embed = self.embedding(x)\n",
    "        output, state = self.lstm(embed, prev_state)\n",
    "        logits = self.dense(output)\n",
    "\n",
    "        return logits, state\n",
    "    \n",
    "    def zero_state(self, batch_size):\n",
    "        return (torch.zeros(1, batch_size, self.lstm_size),\n",
    "                torch.zeros(1, batch_size, self.lstm_size))"
   ]
  },
  {
   "cell_type": "code",
   "execution_count": null,
   "metadata": {},
   "outputs": [],
   "source": [
    "# instantiate a model\n",
    "model = LSTM()"
   ]
  },
  {
   "cell_type": "code",
   "execution_count": null,
   "metadata": {},
   "outputs": [],
   "source": [
    "### Functions to train and evaluate"
   ]
  },
  {
   "cell_type": "code",
   "execution_count": null,
   "metadata": {},
   "outputs": [],
   "source": []
  },
  {
   "cell_type": "code",
   "execution_count": null,
   "metadata": {},
   "outputs": [],
   "source": [
    "### Train the network"
   ]
  },
  {
   "cell_type": "code",
   "execution_count": null,
   "metadata": {},
   "outputs": [],
   "source": [
    "import torch.optim as optim\n",
    "\n",
    "N_EPOCHS = 15\n",
    "\n",
    "optimizer = optim.Adam(model.parameters())\n",
    "criterion = nn.CrossEntropyLoss()\n",
    "\n",
    "best_val_loss = float('inf')\n",
    "\n",
    "all_train_losses = []\n",
    "all_val_losses = []\n",
    "train_accuracy = []\n",
    "val_accuracy = []\n",
    "\n",
    "for epoch in range(N_EPOCHS):\n",
    "\n",
    "    start_time = time.time()\n",
    "    \n",
    "    train_loss, train_acc = train(model, train_loader, optimizer, criterion)\n",
    "    all_train_losses.append(train_loss)\n",
    "    train_accuracy.append(train_acc)\n",
    "\n",
    "    val_loss, val_acc = evaluate(model, val_loader, criterion)\n",
    "    all_val_losses.append(val_loss)\n",
    "    val_accuracy.append(val_acc)\n",
    "    \n",
    "    end_time = time.time()\n",
    "\n",
    "    epoch_mins, epoch_secs = epoch_time(start_time, end_time)\n",
    "    \n",
    "    if val_loss < best_val_loss:\n",
    "        best_val_loss = val_loss\n",
    "        torch.save(model.state_dict(), 'best-model.pt')\n",
    "    \n",
    "    print(f'Epoch: {epoch+1:02} | Epoch Time: {epoch_mins}m {epoch_secs}s')\n",
    "    print(f'\\tTrain Loss: {train_loss:.3f} | Train Acc: {train_acc*100:.2f}%')\n",
    "    print(f'\\t Val. Loss: {val_loss:.3f} |  Val. Acc: {val_acc*100:.2f}%')"
   ]
  },
  {
   "cell_type": "markdown",
   "metadata": {},
   "source": [
    "### Final Tips\n",
    "As a final tip, I do encourage you to do most of the work first on your local machine. They say that Data Scientists spend 80% of their time cleaning the data and preparing it for training (and 20% complaining about cleaning the data and preparing it). Handling these parts on your local machine usually mean you will spend less time complaining. You can switch to the cloud once your code runs and your pipeline is in place, for the actual training using a GPU.  \n",
    "\n",
    "I also encourage you to use a small subset of the dataset first, so things run smoothly. The Metrolyrics dataset contains over 300k songs. You can start with a much much smaller set (even 3,000 songs) and try to train a network based on it. Once everything runs properly, add more data. \n",
    "\n",
    "Good luck!  \n",
    "Omri"
   ]
  }
 ],
 "metadata": {
  "anaconda-cloud": {},
  "kernelspec": {
   "display_name": "Python [conda env:biu-python] *",
   "language": "python",
   "name": "conda-env-biu-python-py"
  }
 },
 "nbformat": 4,
 "nbformat_minor": 2
}
