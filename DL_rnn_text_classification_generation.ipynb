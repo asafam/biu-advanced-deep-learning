{
 "cells": [
  {
   "cell_type": "markdown",
   "metadata": {},
   "source": [
    "anitaostroumov@gmail.com אניטה אוסטרואומוב  310500160\n",
    "asaf.ach@gmail.com אסף אחי מרדכי 035892306"
   ]
  },
  {
   "cell_type": "markdown",
   "metadata": {},
   "source": [
    "# RNN for text classification and text generation\n",
    "### Dr. Omri Allouche 2018. YData Deep Learning Course\n",
    "\n",
    "[Open in Google Colab](https://colab.research.google.com/github/omriallouche/deep_learning_course/blob/master/DL_rnn_text_classification_generation.ipynb)"
   ]
  },
  {
   "cell_type": "markdown",
   "metadata": {},
   "source": [
    "In the first part of this exercise, we’ll continue our attempts to classify text using different network architectures. This time, we’ll try a LSTM. We'll use the Metrolyrics dataset we used in the previous exercise.  \n",
    "\n",
    "You are encouraged to review the code in [this](https://github.com/prakashpandey9/Text-Classification-Pytorch) repo, that contains implementation of several deep learning architectures for text classification in PyTorch. If you face time limitations, you're welcome to adapt it to your needs instead of writing your own code from scratch.\n",
    "\n",
    "In the second part of this exercise, you'll unleash the hidden creativity of your computer, by letting it generate Country songs (yeehaw!). You'll train a character-level RNN-based language model, and use it to generate new songs.\n",
    "\n",
    "\n",
    "### Special Note\n",
    "Our Deep Learning course was packed with both theory and practice. In a short time, you've got to learn the basics of deep learning theory and get hands-on experience training and using pretrained DL networks, while learning PyTorch.  \n",
    "Past exercises required a lot of work, and hopefully gave you a sense of the challenges and difficulties one faces when using deep learning in the real world. While the investment you've made in the course so far is enormous, I strongly encourage you to take a stab at this exercise. \n",
    "\n",
    "DL networks for NLP are much shallower than those for image classification. It's possible to construct your own networks from scratch, and achieve nice results. While I hope the theoretical foundations of RNNs are clear after our class sessions, getting your hands dirty with their implementation in PyTorch allows you to set breakpoints, watch the dimensions of the different layers and components and get a much better understand of theory, in addition to code that might prove useful later for your own projects. \n",
    "\n",
    "I tried to provide references for all parts that walk you through a very similar task (actually, the same task on a different dataset). I expect this exercise to require much less of your time than previous exercises.\n",
    "\n",
    "The exercise is aimed to help you get better understanding of the concepts. I am not looking for the optimal model performance, and don't look for extensive optimization of hyperparameters. The task we face in this exercise, namely the classification of the song’s genre from its text alone, is quite challenging, and we probably shouldn’t expect great results from our classifier. Don’t let this discourage you - not every task reaches an f1 score of 90%+. \n",
    "\n",
    "In fact, some of the reasons I chose this dataset is because it highlights some of the issues we face in machine learning models in the real world. Examples include:\n",
    "- The classes are highly imbalanced - try to think how this affects the network learning\n",
    "- Given the small amount of data for some classes, you might actually prefer to remove them from the dataset. How would you decide that?\n",
    "- NLP tasks often involve preprocessing (lowercasing, tokenization, lemmatization, stopwords removal etc.). The decision on the actual preprocessing pipeline depends on the task, and is often influenced by our believes about the data and exploratory analysis of it. Thinking conciously about these questions helps you be a better data scientist\n",
    "- Some songs contain no lyrics (for example, they just contain the text \"instrumental\"). Others include non-English characters. You'll often need to preprocess your data and make decisions as to what your network should actually get as input (think - how should you treat newline characters?)\n",
    "- While model performance on this dataset are not amazing, we can try to answer interesting follow-up questions - which genres are more similar to each other and are often confused? Do genres become more similar through the years? ...\n",
    "\n",
    "More issues will probably pop up while you're working on this task. If you face technical difficulties or find a step in the process that takes too long, please let me know. It would also be great if you share with the class code you wrote that speeds up some of the work (for example, a data loader class, a parsed dataset etc.)"
   ]
  },
  {
   "cell_type": "markdown",
   "metadata": {},
   "source": [
    "## RNN for Text Classification\n",
    "In this section you'll write a text classifier using LSTM, to determine the genre of a song based on its lyrics.  \n",
    "The code needed for this section should be very similar to code you've written for the previous exercise, and use the same dataset.  "
   ]
  },
  {
   "cell_type": "markdown",
   "metadata": {},
   "source": [
    "#### Load the data"
   ]
  },
  {
   "cell_type": "code",
   "execution_count": 430,
   "metadata": {},
   "outputs": [],
   "source": [
    "import re\n",
    "import pandas as pd\n",
    "from time import time  # To time our operations\n",
    "from collections import defaultdict  # For word frequency\n",
    "\n",
    "import logging  # Setting up the loggings to monitor gensim\n",
    "logging.basicConfig(format=\"%(levelname)s - %(asctime)s: %(message)s\", datefmt= '%H:%M:%S', level=logging.INFO)"
   ]
  },
  {
   "cell_type": "code",
   "execution_count": 431,
   "metadata": {},
   "outputs": [],
   "source": [
    "# Load the data\n",
    "raw_data = pd.read_csv(\"380000-lyrics-from-metrolyrics.zip\")"
   ]
  },
  {
   "cell_type": "code",
   "execution_count": 432,
   "metadata": {},
   "outputs": [
    {
     "name": "stdout",
     "output_type": "stream",
     "text": [
      "(362237, 6)\n",
      "(332423, 6)\n"
     ]
    },
    {
     "data": {
      "text/html": [
       "<div>\n",
       "<style scoped>\n",
       "    .dataframe tbody tr th:only-of-type {\n",
       "        vertical-align: middle;\n",
       "    }\n",
       "\n",
       "    .dataframe tbody tr th {\n",
       "        vertical-align: top;\n",
       "    }\n",
       "\n",
       "    .dataframe thead th {\n",
       "        text-align: right;\n",
       "    }\n",
       "</style>\n",
       "<table border=\"1\" class=\"dataframe\">\n",
       "  <thead>\n",
       "    <tr style=\"text-align: right;\">\n",
       "      <th></th>\n",
       "      <th>index</th>\n",
       "      <th>song</th>\n",
       "      <th>year</th>\n",
       "      <th>artist</th>\n",
       "      <th>genre</th>\n",
       "      <th>lyrics</th>\n",
       "    </tr>\n",
       "  </thead>\n",
       "  <tbody>\n",
       "    <tr>\n",
       "      <td>0</td>\n",
       "      <td>0</td>\n",
       "      <td>ego-remix</td>\n",
       "      <td>2009</td>\n",
       "      <td>beyonce-knowles</td>\n",
       "      <td>Pop</td>\n",
       "      <td>Oh baby, how you doing?\\nYou know I'm gonna cu...</td>\n",
       "    </tr>\n",
       "    <tr>\n",
       "      <td>1</td>\n",
       "      <td>1</td>\n",
       "      <td>then-tell-me</td>\n",
       "      <td>2009</td>\n",
       "      <td>beyonce-knowles</td>\n",
       "      <td>Pop</td>\n",
       "      <td>playin' everything so easy,\\nit's like you see...</td>\n",
       "    </tr>\n",
       "    <tr>\n",
       "      <td>2</td>\n",
       "      <td>2</td>\n",
       "      <td>honesty</td>\n",
       "      <td>2009</td>\n",
       "      <td>beyonce-knowles</td>\n",
       "      <td>Pop</td>\n",
       "      <td>If you search\\nFor tenderness\\nIt isn't hard t...</td>\n",
       "    </tr>\n",
       "    <tr>\n",
       "      <td>3</td>\n",
       "      <td>3</td>\n",
       "      <td>you-are-my-rock</td>\n",
       "      <td>2009</td>\n",
       "      <td>beyonce-knowles</td>\n",
       "      <td>Pop</td>\n",
       "      <td>Oh oh oh I, oh oh oh I\\n[Verse 1:]\\nIf I wrote...</td>\n",
       "    </tr>\n",
       "    <tr>\n",
       "      <td>4</td>\n",
       "      <td>4</td>\n",
       "      <td>black-culture</td>\n",
       "      <td>2009</td>\n",
       "      <td>beyonce-knowles</td>\n",
       "      <td>Pop</td>\n",
       "      <td>Party the people, the people the party it's po...</td>\n",
       "    </tr>\n",
       "    <tr>\n",
       "      <td>...</td>\n",
       "      <td>...</td>\n",
       "      <td>...</td>\n",
       "      <td>...</td>\n",
       "      <td>...</td>\n",
       "      <td>...</td>\n",
       "      <td>...</td>\n",
       "    </tr>\n",
       "    <tr>\n",
       "      <td>362232</td>\n",
       "      <td>362232</td>\n",
       "      <td>who-am-i-drinking-tonight</td>\n",
       "      <td>2012</td>\n",
       "      <td>edens-edge</td>\n",
       "      <td>Country</td>\n",
       "      <td>I gotta say\\nBoy, after only just a couple of ...</td>\n",
       "    </tr>\n",
       "    <tr>\n",
       "      <td>362233</td>\n",
       "      <td>362233</td>\n",
       "      <td>liar</td>\n",
       "      <td>2012</td>\n",
       "      <td>edens-edge</td>\n",
       "      <td>Country</td>\n",
       "      <td>I helped you find her diamond ring\\nYou made m...</td>\n",
       "    </tr>\n",
       "    <tr>\n",
       "      <td>362234</td>\n",
       "      <td>362234</td>\n",
       "      <td>last-supper</td>\n",
       "      <td>2012</td>\n",
       "      <td>edens-edge</td>\n",
       "      <td>Country</td>\n",
       "      <td>Look at the couple in the corner booth\\nLooks ...</td>\n",
       "    </tr>\n",
       "    <tr>\n",
       "      <td>362235</td>\n",
       "      <td>362235</td>\n",
       "      <td>christ-alone-live-in-studio</td>\n",
       "      <td>2012</td>\n",
       "      <td>edens-edge</td>\n",
       "      <td>Country</td>\n",
       "      <td>When I fly off this mortal earth\\nAnd I'm meas...</td>\n",
       "    </tr>\n",
       "    <tr>\n",
       "      <td>362236</td>\n",
       "      <td>362236</td>\n",
       "      <td>amen</td>\n",
       "      <td>2012</td>\n",
       "      <td>edens-edge</td>\n",
       "      <td>Country</td>\n",
       "      <td>I heard from a friend of a friend of a friend ...</td>\n",
       "    </tr>\n",
       "  </tbody>\n",
       "</table>\n",
       "<p>332423 rows × 6 columns</p>\n",
       "</div>"
      ],
      "text/plain": [
       "         index                         song  year           artist    genre  \\\n",
       "0            0                    ego-remix  2009  beyonce-knowles      Pop   \n",
       "1            1                 then-tell-me  2009  beyonce-knowles      Pop   \n",
       "2            2                      honesty  2009  beyonce-knowles      Pop   \n",
       "3            3              you-are-my-rock  2009  beyonce-knowles      Pop   \n",
       "4            4                black-culture  2009  beyonce-knowles      Pop   \n",
       "...        ...                          ...   ...              ...      ...   \n",
       "362232  362232    who-am-i-drinking-tonight  2012       edens-edge  Country   \n",
       "362233  362233                         liar  2012       edens-edge  Country   \n",
       "362234  362234                  last-supper  2012       edens-edge  Country   \n",
       "362235  362235  christ-alone-live-in-studio  2012       edens-edge  Country   \n",
       "362236  362236                         amen  2012       edens-edge  Country   \n",
       "\n",
       "                                                   lyrics  \n",
       "0       Oh baby, how you doing?\\nYou know I'm gonna cu...  \n",
       "1       playin' everything so easy,\\nit's like you see...  \n",
       "2       If you search\\nFor tenderness\\nIt isn't hard t...  \n",
       "3       Oh oh oh I, oh oh oh I\\n[Verse 1:]\\nIf I wrote...  \n",
       "4       Party the people, the people the party it's po...  \n",
       "...                                                   ...  \n",
       "362232  I gotta say\\nBoy, after only just a couple of ...  \n",
       "362233  I helped you find her diamond ring\\nYou made m...  \n",
       "362234  Look at the couple in the corner booth\\nLooks ...  \n",
       "362235  When I fly off this mortal earth\\nAnd I'm meas...  \n",
       "362236  I heard from a friend of a friend of a friend ...  \n",
       "\n",
       "[332423 rows x 6 columns]"
      ]
     },
     "execution_count": 432,
     "metadata": {},
     "output_type": "execute_result"
    }
   ],
   "source": [
    "# Clean the data\n",
    "data = raw_data\n",
    "print(data.shape)\n",
    "data = data.loc[data[\"lyrics\"].str.len() > 3] # filter for songs with more than 3 words\n",
    "data = raw_data[raw_data[\"genre\"] != \"Not Available\"] # remove \"Not Available genre\"\n",
    "data = data[data[\"genre\"].notnull()] # remove null genres\n",
    "print(data.shape)\n",
    "data"
   ]
  },
  {
   "cell_type": "code",
   "execution_count": 433,
   "metadata": {},
   "outputs": [],
   "source": [
    "# suffle the data\n",
    "from sklearn.utils import shuffle\n",
    "\n",
    "data = shuffle(data)"
   ]
  },
  {
   "cell_type": "code",
   "execution_count": 434,
   "metadata": {},
   "outputs": [
    {
     "data": {
      "text/plain": [
       "Rock          131377\n",
       "Pop            49444\n",
       "Hip-Hop        33965\n",
       "Metal          28408\n",
       "Other          23683\n",
       "Country        17286\n",
       "Jazz           17147\n",
       "Electronic     16205\n",
       "R&B             5935\n",
       "Indie           5732\n",
       "Folk            3241\n",
       "Name: genre, dtype: int64"
      ]
     },
     "execution_count": 434,
     "metadata": {},
     "output_type": "execute_result"
    }
   ],
   "source": [
    "genres_distribution = data['genre'].value_counts()\n",
    "genres_distribution"
   ]
  },
  {
   "cell_type": "code",
   "execution_count": 435,
   "metadata": {},
   "outputs": [
    {
     "data": {
      "text/plain": [
       "<matplotlib.axes._subplots.AxesSubplot at 0x13d845d30>"
      ]
     },
     "execution_count": 435,
     "metadata": {},
     "output_type": "execute_result"
    },
    {
     "data": {
      "image/png": "[encoded data removed]",
      "text/plain": [
       "<Figure size 432x288 with 1 Axes>"
      ]
     },
     "metadata": {
      "needs_background": "light"
     },
     "output_type": "display_data"
    }
   ],
   "source": [
    "genres_distribution.plot.bar()"
   ]
  },
  {
   "cell_type": "code",
   "execution_count": 436,
   "metadata": {},
   "outputs": [
    {
     "name": "stdout",
     "output_type": "stream",
     "text": [
      "Songs with no lyrics is 95680 / 362237 = 0.264136463144295\n",
      "Instrumental songs is 80 / 362237 0.00022084988557215303%\n"
     ]
    }
   ],
   "source": [
    "data_missing_lyrics = raw_data[raw_data['lyrics'].isnull()]\n",
    "print(f\"Songs with no lyrics is {len(data_missing_lyrics)} / {len(raw_data['lyrics'])} = {len(data_missing_lyrics) / len(raw_data['lyrics'])}\")\n",
    "      \n",
    "data_instrumental_lyrics = raw_data[raw_data['lyrics'] == \"instrumental\"]\n",
    "print(f\"Instrumental songs is {len(data_instrumental_lyrics)} / {len(raw_data['lyrics'])} {len(data_instrumental_lyrics) / len(raw_data['lyrics'])}%\")"
   ]
  },
  {
   "cell_type": "code",
   "execution_count": 437,
   "metadata": {},
   "outputs": [],
   "source": [
    "data = data[data['lyrics'].notnull()]"
   ]
  },
  {
   "cell_type": "code",
   "execution_count": 438,
   "metadata": {},
   "outputs": [],
   "source": [
    "data = data[data['lyrics'] != \"Not Available\"]"
   ]
  },
  {
   "cell_type": "code",
   "execution_count": 439,
   "metadata": {},
   "outputs": [
    {
     "name": "stderr",
     "output_type": "stream",
     "text": [
      "INFO - 10:27:14: 'pattern' package not found; tag filters are not available for English\n",
      "INFO - 10:27:14: loading Word2Vec object from 300features_40minwords_10context.wv.model\n",
      "INFO - 10:27:15: loading wv recursively from 300features_40minwords_10context.wv.model.wv.* with mmap=None\n",
      "INFO - 10:27:15: setting ignored attribute vectors_norm to None\n",
      "INFO - 10:27:15: loading vocabulary recursively from 300features_40minwords_10context.wv.model.vocabulary.* with mmap=None\n",
      "INFO - 10:27:15: loading trainables recursively from 300features_40minwords_10context.wv.model.trainables.* with mmap=None\n",
      "INFO - 10:27:15: setting ignored attribute cum_table to None\n",
      "INFO - 10:27:15: loaded 300features_40minwords_10context.wv.model\n"
     ]
    }
   ],
   "source": [
    "from gensim.models import Word2Vec\n",
    "\n",
    "w2v_model = Word2Vec.load(\"300features_40minwords_10context.wv.model\")"
   ]
  },
  {
   "cell_type": "code",
   "execution_count": 440,
   "metadata": {},
   "outputs": [],
   "source": [
    "import numpy as np\n",
    "\n",
    "PAD = \"<pad>\"\n",
    "w2v_model.wv[\"<pad>\"] = np.zeros(300,)"
   ]
  },
  {
   "cell_type": "markdown",
   "metadata": {},
   "source": [
    "### Split the data to train and test"
   ]
  },
  {
   "cell_type": "code",
   "execution_count": 441,
   "metadata": {},
   "outputs": [],
   "source": [
    "import re\n",
    "from nltk.corpus import stopwords\n",
    "\n",
    "def process_document(text, remove_panctuations=True, \n",
    "                        remove_stopwords=True, remove_unknown_words=True, fix_length=200):\n",
    "    \n",
    "    if remove_panctuations:\n",
    "      text = re.sub(\"[^a-zA-Z0-9]\",\" \", text)\n",
    "    #\n",
    "    # Convert words to lower case and split them\n",
    "    words = text.lower().split()\n",
    "    #\n",
    "    # Optionally remove stop words (false by default)\n",
    "    if remove_stopwords:\n",
    "        stops = set(stopwords.words(\"english\"))\n",
    "        words = [w for w in words if not w.lower() in stops]  \n",
    "        \n",
    "    if remove_unknown_words:\n",
    "        words = [w for w in words if w in w2v_model.wv]\n",
    "        \n",
    "    if len(words) < fix_length:\n",
    "        words += ([PAD] * (fix_length - len(words)))\n",
    "    elif len(words) > fix_length:\n",
    "        words = words[:fix_length]\n",
    "        \n",
    "#     processed_document = \" \".join(words)\n",
    "    return words"
   ]
  },
  {
   "cell_type": "code",
   "execution_count": 13,
   "metadata": {},
   "outputs": [],
   "source": [
    "def tokenizer(text): # create a tokenizer function\n",
    "    return process_document(text) #[tok.text for tok in spacy_en.tokenizer(process_document(text))]"
   ]
  },
  {
   "cell_type": "code",
   "execution_count": 17,
   "metadata": {},
   "outputs": [
    {
     "data": {
      "text/plain": [
       "array([10, 10,  7, ..., 10, 10, 10])"
      ]
     },
     "execution_count": 17,
     "metadata": {},
     "output_type": "execute_result"
    }
   ],
   "source": [
    "from sklearn.preprocessing import LabelBinarizer\n",
    "ohe = LabelBinarizer()\n",
    "ohe.fit_transform(data['genre'].values)\n",
    "\n",
    "def one_hot_encoding(label):\n",
    "    vec = ohe.transform([label])[0]\n",
    "    return vec\n",
    "\n",
    "\n",
    "\n",
    "# Import LabelEncoder\n",
    "from sklearn import preprocessing\n",
    "\n",
    "# creating labelEncoder\n",
    "le = preprocessing.LabelEncoder()\n",
    "\n",
    "# Converting string labels into numbers.\n",
    "genres_encoded = le.fit_transform(data[\"genre\"])\n",
    "genres_encoded"
   ]
  },
  {
   "cell_type": "code",
   "execution_count": 18,
   "metadata": {},
   "outputs": [],
   "source": [
    "from torch.utils.data import Dataset, DataLoader, random_split"
   ]
  },
  {
   "cell_type": "code",
   "execution_count": 21,
   "metadata": {},
   "outputs": [],
   "source": [
    "import torch\n",
    "\n",
    "class SongsDataset(Dataset):\n",
    "    \"\"\"Face Landmarks dataset.\"\"\"\n",
    "\n",
    "    def __init__(self, df):\n",
    "        \"\"\"\n",
    "        Args:\n",
    "            df (pandas.DataFrame): DataFrame object\n",
    "        \"\"\"\n",
    "        self.texts = df['lyrics'].values\n",
    "        self.labels = df['genre'].values\n",
    "\n",
    "    def __len__(self):\n",
    "        return len(self.labels)\n",
    "\n",
    "    def __getitem__(self, idx):\n",
    "        text = self.texts[idx]\n",
    "        text = tokenizer(text)\n",
    "        text = [w2v_model.wv.vocab[word].index for word in text]\n",
    "        label = self.labels[idx]\n",
    "        label = one_hot_encoding(label)\n",
    "\n",
    "        sample = (torch.tensor(text), torch.tensor(label))\n",
    "\n",
    "        return sample"
   ]
  },
  {
   "cell_type": "code",
   "execution_count": 22,
   "metadata": {},
   "outputs": [
    {
     "data": {
      "text/plain": [
       "(tensor([ 1328,  1797,   301,  4398,  1060,    97,  1172,  4861,  5370, 16835,\n",
       "          1209,   429,  3530,   989,  5701,  2115,  1029,   147,  1029,   147,\n",
       "          1029,   147,  1029,   147,   490,  3909,  1165,  2762,  1473,   721,\n",
       "           194,   564,  4234,  1316,  2355,  4790,  1951,   399,  5940,  6893,\n",
       "          1029,   147,  1029,   147,  1029,   147,  1029,   147,  1914,   615,\n",
       "          1199,   222,  1968,    52,  1029,   147,  1029,   147,  1029,   147,\n",
       "          1029,   147,  1914,   615,  1199,   222,  1968,    52,  1199,   222,\n",
       "          1914,   615,   212,    52,   135,   120,   964,  1323,  1033,  1522,\n",
       "            77,  1360,  3985,    81,  4585,  2610,    65,  2610,    50,    65,\n",
       "            55,    30,   681,  1627,  1202,  1050,   612,    70,   423,   400,\n",
       "           253,  2812,  2330,    72,  4341,   135,  3608,   181,  7154,   882,\n",
       "          1827,   825,    52,    65,    70,   440,    77,  1285,   368,   500,\n",
       "           151,   748, 17993,   619,   612,    70,   423, 29972, 29972, 29972,\n",
       "         29972, 29972, 29972, 29972, 29972, 29972, 29972, 29972, 29972, 29972,\n",
       "         29972, 29972, 29972, 29972, 29972, 29972, 29972, 29972, 29972, 29972,\n",
       "         29972, 29972, 29972, 29972, 29972, 29972, 29972, 29972, 29972, 29972,\n",
       "         29972, 29972, 29972, 29972, 29972, 29972, 29972, 29972, 29972, 29972,\n",
       "         29972, 29972, 29972, 29972, 29972, 29972, 29972, 29972, 29972, 29972,\n",
       "         29972, 29972, 29972, 29972, 29972, 29972, 29972, 29972, 29972, 29972,\n",
       "         29972, 29972, 29972, 29972, 29972, 29972, 29972, 29972, 29972, 29972]),\n",
       " tensor([0, 0, 0, 0, 0, 0, 1, 0, 0, 0, 0]))"
      ]
     },
     "execution_count": 22,
     "metadata": {},
     "output_type": "execute_result"
    }
   ],
   "source": [
    "dataset = SongsDataset(data[:1000])\n",
    "\n",
    "train_size = int(0.8 * len(dataset))\n",
    "val_size = len(dataset) - train_size\n",
    "train_data, val_data = random_split(dataset, [train_size, val_size])\n",
    "\n",
    "train_loader = DataLoader(train_data, batch_size=8, shuffle=True)\n",
    "val_loader = DataLoader(val_data, batch_size=8, shuffle=True)\n",
    "\n",
    "dataset.__getitem__(99)"
   ]
  },
  {
   "cell_type": "markdown",
   "metadata": {},
   "source": [
    "#### Model definition"
   ]
  },
  {
   "cell_type": "code",
   "execution_count": 23,
   "metadata": {},
   "outputs": [],
   "source": [
    "import torch\n",
    "import torch.nn as nn\n",
    "from torch.autograd import Variable\n",
    "from torch.nn import functional as F\n",
    "\n",
    "class LSTMClassifier(nn.Module):\n",
    "    def __init__(self, batch_size, output_size, hidden_size, vocab_size, embedding_length, weights, freeze_embeddings=False):\n",
    "        super(LSTMClassifier, self).__init__()\n",
    "\n",
    "        \"\"\"\n",
    "        Arguments\n",
    "        ---------\n",
    "        batch_size : Size of the batch which is same as the batch_size of the data returned by the TorchText BucketIterator\n",
    "        output_size : 2 = (pos, neg)\n",
    "        hidden_sie : Size of the hidden_state of the LSTM\n",
    "        vocab_size : Size of the vocabulary containing unique words\n",
    "        embedding_length : Embeddding dimension of GloVe word embeddings\n",
    "        weights : Pre-trained GloVe word_embeddings which we will use to create our word_embedding look-up table \n",
    "\n",
    "        \"\"\"\n",
    "\n",
    "        self.batch_size = batch_size\n",
    "        self.output_size = output_size\n",
    "        self.hidden_size = hidden_size\n",
    "        self.vocab_size = vocab_size\n",
    "        self.embedding_length = embedding_length\n",
    "        \n",
    "        self.word_embeddings = nn.Embedding.from_pretrained(torch.FloatTensor(weights), freeze=freeze_embeddings)\n",
    "#         self.word_embeddings = nn.Embedding(vocab_size, embedding_length)# Initializing the look-up table.\n",
    "#         self.word_embeddings.weight = nn.Parameter(weights, requires_grad=False) # Assigning the look-up table to the pre-trained GloVe word embedding.\n",
    "        self.lstm = nn.LSTM(embedding_length, hidden_size)\n",
    "        self.dense = nn.Linear(hidden_size, output_size)\n",
    "\n",
    "    def forward(self, input_sentence, batch_size=None):\n",
    "\n",
    "        \"\"\" \n",
    "        Parameters\n",
    "        ----------\n",
    "        input_sentence: input_sentence of shape = (batch_size, num_sequences)\n",
    "        batch_size : default = None. Used only for prediction on a single sentence after training (batch_size = 1)\n",
    "        \n",
    "        Returns\n",
    "        -------\n",
    "        Output of the linear layer containing logits for positive & negative class which receives its input as the final_hidden_state of the LSTM\n",
    "        final_output.shape = (batch_size, output_size)\n",
    "        \n",
    "        \"\"\"\n",
    "        \n",
    "        ''' Here we will map all the indexes present in the input sequence to the corresponding word vector using our pre-trained word_embedddins.'''\n",
    "        input = self.word_embeddings(input_sentence) # embedded input of shape = (batch_size, num_sequences,  embedding_length)\n",
    "        input = input.permute(1, 0, 2) # input.size() = (num_sequences, batch_size, embedding_length)\n",
    "\n",
    "        if batch_size is None:\n",
    "            h_0 = torch.zeros(1, self.batch_size, self.hidden_size) # Initial hidden state of the LSTM\n",
    "            c_0 = torch.zeros(1, self.batch_size, self.hidden_size) # Initial cell state of the LSTM\n",
    "        else:\n",
    "            h_0 = torch.zeros(1, batch_size, self.hidden_size)\n",
    "            c_0 = torch.zeros(1, batch_size, self.hidden_size)\n",
    "        output, (final_hidden_state, final_cell_state) = self.lstm(input, (h_0, c_0))\n",
    "        logits = self.dense(final_hidden_state[-1]) # final_hidden_state.size() = (1, batch_size, hidden_size) & final_output.size() = (batch_size, output_size)\n",
    "    \n",
    "        return logits"
   ]
  },
  {
   "cell_type": "markdown",
   "metadata": {},
   "source": [
    "#### Instantiate the model"
   ]
  },
  {
   "cell_type": "code",
   "execution_count": 24,
   "metadata": {},
   "outputs": [],
   "source": [
    "NUM_CLASSES = 11 # 11 genres of songs\n",
    "DROPOUT = 0.25\n",
    "VOCAB_SIZE = len(w2v_model.wv.vocab)\n",
    "EMBED_DIM = 300\n",
    "HIDDEN_SIZE=256\n",
    "BATCH_SIZE=8\n",
    "weights =  w2v_model.wv.vectors #TEXT.vocab.vectors\n",
    "\n",
    "model = LSTMClassifier(batch_size=BATCH_SIZE, output_size=NUM_CLASSES, hidden_size=HIDDEN_SIZE, \n",
    "                       vocab_size=VOCAB_SIZE, embedding_length=EMBED_DIM, weights=weights)"
   ]
  },
  {
   "cell_type": "markdown",
   "metadata": {},
   "source": [
    "#### Functions to train and evaluate the model"
   ]
  },
  {
   "cell_type": "code",
   "execution_count": 25,
   "metadata": {},
   "outputs": [],
   "source": [
    "def binary_accuracy(preds, y):\n",
    "    \"\"\"\n",
    "    Returns accuracy per batch, i.e. if you get 8/10 right, this returns 0.8, NOT 8\n",
    "    \"\"\"\n",
    "    \n",
    "    probs = torch.softmax(preds, dim=1)\n",
    "    winners = probs.argmax(dim=1)\n",
    "    correct = (winners == y.argmax(dim=1)).float() #convert into float for division \n",
    "\n",
    "    acc = correct.sum() / len(correct)\n",
    "    return acc\n",
    "\n",
    "def train(model, loader, optimizer, criterion):\n",
    "    \n",
    "    epoch_loss = 0\n",
    "    epoch_acc = 0\n",
    "    \n",
    "    model.train()\n",
    "    \n",
    "    for index, batch in enumerate(loader):\n",
    "        \n",
    "        # handle case where one of the batches is of size that is smaller than declared batch size\n",
    "        # todo!!!\n",
    "        \n",
    "        optimizer.zero_grad()\n",
    "        \n",
    "        predictions = model(batch[0]).squeeze(1)\n",
    "        \n",
    "        loss = criterion(predictions, batch[1])\n",
    "        \n",
    "        acc = binary_accuracy(predictions, batch[1])\n",
    "        \n",
    "        loss.backward()\n",
    "        \n",
    "        optimizer.step()\n",
    "        \n",
    "        epoch_loss += loss.item()\n",
    "        epoch_acc += acc.item()\n",
    "        \n",
    "    return epoch_loss / len(loader), epoch_acc / len(loader)\n",
    "\n",
    "def evaluate(model, loader, criterion):\n",
    "    \n",
    "    epoch_loss = 0\n",
    "    epoch_acc = 0\n",
    "    \n",
    "    model.eval()\n",
    "    \n",
    "    with torch.no_grad():\n",
    "    \n",
    "        for index, batch in enumerate(loader):\n",
    "\n",
    "            predictions = model(batch[0]).squeeze(1)\n",
    "            \n",
    "            loss = criterion(predictions, batch[1])\n",
    "            \n",
    "            acc = binary_accuracy(predictions, batch[1])\n",
    "\n",
    "            epoch_loss += loss.item()\n",
    "            epoch_acc += acc.item()\n",
    "        \n",
    "    return epoch_loss / len(loader), epoch_acc / len(loader)\n",
    "\n",
    "import time\n",
    "\n",
    "def epoch_time(start_time, end_time):\n",
    "    elapsed_time = end_time - start_time\n",
    "    elapsed_mins = int(elapsed_time / 60)\n",
    "    elapsed_secs = int(elapsed_time - (elapsed_mins * 60))\n",
    "    return elapsed_mins, elapsed_secs"
   ]
  },
  {
   "cell_type": "markdown",
   "metadata": {},
   "source": [
    "### Training the model"
   ]
  },
  {
   "cell_type": "code",
   "execution_count": 26,
   "metadata": {},
   "outputs": [
    {
     "name": "stdout",
     "output_type": "stream",
     "text": [
      "Epoch: 01 | Epoch Time: 0m 27s\n",
      "\tTrain Loss: 0.289 | Train Acc: 40.25%\n",
      "\t Val. Loss: 0.258 |  Val. Acc: 38.00%\n",
      "Epoch: 02 | Epoch Time: 0m 23s\n",
      "\tTrain Loss: 0.244 | Train Acc: 43.75%\n",
      "\t Val. Loss: 0.258 |  Val. Acc: 38.00%\n",
      "Epoch: 03 | Epoch Time: 0m 24s\n",
      "\tTrain Loss: 0.238 | Train Acc: 44.75%\n",
      "\t Val. Loss: 0.248 |  Val. Acc: 43.00%\n",
      "Epoch: 04 | Epoch Time: 0m 24s\n",
      "\tTrain Loss: 0.229 | Train Acc: 49.12%\n",
      "\t Val. Loss: 0.250 |  Val. Acc: 43.00%\n",
      "Epoch: 05 | Epoch Time: 0m 23s\n",
      "\tTrain Loss: 0.224 | Train Acc: 49.75%\n",
      "\t Val. Loss: 0.247 |  Val. Acc: 41.50%\n",
      "Epoch: 06 | Epoch Time: 0m 22s\n",
      "\tTrain Loss: 0.220 | Train Acc: 50.88%\n",
      "\t Val. Loss: 0.249 |  Val. Acc: 41.00%\n",
      "Epoch: 07 | Epoch Time: 0m 22s\n",
      "\tTrain Loss: 0.218 | Train Acc: 51.75%\n",
      "\t Val. Loss: 0.244 |  Val. Acc: 39.50%\n",
      "Epoch: 08 | Epoch Time: 0m 22s\n",
      "\tTrain Loss: 0.215 | Train Acc: 52.12%\n",
      "\t Val. Loss: 0.249 |  Val. Acc: 43.50%\n",
      "Epoch: 09 | Epoch Time: 0m 21s\n",
      "\tTrain Loss: 0.214 | Train Acc: 52.75%\n",
      "\t Val. Loss: 0.251 |  Val. Acc: 40.50%\n",
      "Epoch: 10 | Epoch Time: 0m 22s\n",
      "\tTrain Loss: 0.212 | Train Acc: 53.25%\n",
      "\t Val. Loss: 0.246 |  Val. Acc: 40.50%\n"
     ]
    }
   ],
   "source": [
    "import torch.optim as optim\n",
    "import time\n",
    "\n",
    "N_EPOCHS = 10\n",
    "\n",
    "optimizer = optim.Adam(model.parameters())\n",
    "criterion = nn.MultiLabelSoftMarginLoss()\n",
    "\n",
    "best_val_loss = float('inf')\n",
    "\n",
    "all_train_losses = []\n",
    "all_val_losses = []\n",
    "train_accuracy = []\n",
    "val_accuracy = []\n",
    "\n",
    "for epoch in range(N_EPOCHS):\n",
    "\n",
    "    start_time = time.time()\n",
    "    \n",
    "    train_loss, train_acc = train(model, train_loader, optimizer, criterion)\n",
    "    all_train_losses.append(train_loss)\n",
    "    train_accuracy.append(train_acc)\n",
    "\n",
    "    val_loss, val_acc = evaluate(model, val_loader, criterion)\n",
    "    all_val_losses.append(val_loss)\n",
    "    val_accuracy.append(val_acc)\n",
    "    \n",
    "    end_time = time.time()\n",
    "\n",
    "    epoch_mins, epoch_secs = epoch_time(start_time, end_time)\n",
    "    \n",
    "    if val_loss < best_val_loss:\n",
    "        best_val_loss = val_loss\n",
    "        torch.save(model.state_dict(), 'best-model.model')\n",
    "    \n",
    "    print(f'Epoch: {epoch+1:02} | Epoch Time: {epoch_mins}m {epoch_secs}s')\n",
    "    print(f'\\tTrain Loss: {train_loss:.3f} | Train Acc: {train_acc*100:.2f}%')\n",
    "    print(f'\\t Val. Loss: {val_loss:.3f} |  Val. Acc: {val_acc*100:.2f}%')"
   ]
  },
  {
   "cell_type": "code",
   "execution_count": 27,
   "metadata": {},
   "outputs": [
    {
     "data": {
      "image/png": "[encoded data removed]",
      "text/plain": [
       "<Figure size 432x288 with 1 Axes>"
      ]
     },
     "metadata": {
      "needs_background": "light"
     },
     "output_type": "display_data"
    }
   ],
   "source": [
    "import matplotlib.pyplot as plt\n",
    "import matplotlib.ticker as ticker\n",
    "\n",
    "plt.figure()\n",
    "plt.plot(all_train_losses, 'r')\n",
    "plt.plot(all_val_losses, 'g')\n",
    "plt.plot(train_accuracy, 'b')\n",
    "plt.plot(val_accuracy, 'y')\n",
    "plt.show()"
   ]
  },
  {
   "cell_type": "markdown",
   "metadata": {},
   "source": [
    "## RNN for Text Generation\n",
    "In this section, we'll use an LSTM to generate new songs. You can pick any genre you like, or just use all genres. You can even try to generate songs in the style of a certain artist - remember that the Metrolyrics dataset contains the author of each song. \n",
    "\n",
    "For this, we’ll first train a character-based language model. We’ve mostly discussed in class the usage of RNNs to predict the next word given past words, but as we’ve mentioned in class, RNNs can also be used to learn sequences of characters.\n",
    "\n",
    "First, please go through the [PyTorch tutorial](https://pytorch.org/tutorials/intermediate/char_rnn_generation_tutorial.html) on generating family names. You can download a .py file or a jupyter notebook with the entire code of the tutorial. \n",
    "\n",
    "As a reminder of topics we've discussed in class, see Andrej Karpathy's popular blog post [\"The Unreasonable Effectiveness of Recurrent Neural Networks\"](http://karpathy.github.io/2015/05/21/rnn-effectiveness/). You are also encouraged to view [this](https://gist.github.com/karpathy/d4dee566867f8291f086) vanilla implementation of a character-level RNN, written in numpy with just 100 lines of code, including the forward and backward passes.  \n",
    "\n",
    "Other tutorials that might prove useful:\n",
    "1. http://warmspringwinds.github.io/pytorch/rnns/2018/01/27/learning-to-generate-lyrics-and-music-with-recurrent-neural-networks/\n",
    "1. https://github.com/mcleonard/pytorch-charRNN\n",
    "1. https://github.com/spro/practical-pytorch/blob/master/char-rnn-generation/char-rnn-generation.ipynb"
   ]
  },
  {
   "cell_type": "markdown",
   "metadata": {},
   "source": [
    "### Load the data"
   ]
  },
  {
   "cell_type": "code",
   "execution_count": 28,
   "metadata": {},
   "outputs": [],
   "source": [
    "# Load the data from csv\n",
    "import pandas as pd\n",
    "\n",
    "raw_data = pd.read_csv(\"380000-lyrics-from-metrolyrics.zip\")"
   ]
  },
  {
   "cell_type": "code",
   "execution_count": 29,
   "metadata": {},
   "outputs": [
    {
     "name": "stdout",
     "output_type": "stream",
     "text": [
      "                                                   lyrics    genre\n",
      "0       Oh baby, how you doing?\\nYou know I'm gonna cu...      Pop\n",
      "1       playin' everything so easy,\\nit's like you see...      Pop\n",
      "2       If you search\\nFor tenderness\\nIt isn't hard t...      Pop\n",
      "3       Oh oh oh I, oh oh oh I\\n[Verse 1:]\\nIf I wrote...      Pop\n",
      "4       Party the people, the people the party it's po...      Pop\n",
      "...                                                   ...      ...\n",
      "362232  I gotta say\\nBoy, after only just a couple of ...  Country\n",
      "362233  I helped you find her diamond ring\\nYou made m...  Country\n",
      "362234  Look at the couple in the corner booth\\nLooks ...  Country\n",
      "362235  When I fly off this mortal earth\\nAnd I'm meas...  Country\n",
      "362236  I heard from a friend of a friend of a friend ...  Country\n",
      "\n",
      "[362237 rows x 2 columns]\n",
      "                                                   lyrics genre\n",
      "0       Oh baby, how you doing?\\nYou know I'm gonna cu...   Pop\n",
      "1       playin' everything so easy,\\nit's like you see...   Pop\n",
      "2       If you search\\nFor tenderness\\nIt isn't hard t...   Pop\n",
      "3       Oh oh oh I, oh oh oh I\\n[Verse 1:]\\nIf I wrote...   Pop\n",
      "4       Party the people, the people the party it's po...   Pop\n",
      "...                                                   ...   ...\n",
      "362210  When the photographs you're taking now\\nAre ta...   Pop\n",
      "362211  I met Moko jumbie,\\nHe walks on stilts through...   Pop\n",
      "362212  Chill on the hollow ponds\\nSet sail by a kid\\n...   Pop\n",
      "362213  Celebrate the passing drugs\\nPut them on the b...   Pop\n",
      "362214  When the serve is done\\nAnd the parish shuffle...   Pop\n",
      "\n",
      "[49444 rows x 2 columns]\n"
     ]
    }
   ],
   "source": [
    "# let's see the data: browse through different songe genres:\n",
    "print(raw_data[['lyrics', 'genre']])\n",
    "\n",
    "print(raw_data[raw_data['genre'] == 'Pop'][['lyrics', 'genre']])"
   ]
  },
  {
   "cell_type": "code",
   "execution_count": 30,
   "metadata": {},
   "outputs": [
    {
     "data": {
      "text/plain": [
       "362237"
      ]
     },
     "execution_count": 30,
     "metadata": {},
     "output_type": "execute_result"
    }
   ],
   "source": [
    "len(raw_data.dropna(subset=['genre']))"
   ]
  },
  {
   "cell_type": "code",
   "execution_count": 31,
   "metadata": {},
   "outputs": [
    {
     "data": {
      "text/plain": [
       "362237"
      ]
     },
     "execution_count": 31,
     "metadata": {},
     "output_type": "execute_result"
    }
   ],
   "source": [
    "len(raw_data)"
   ]
  },
  {
   "cell_type": "code",
   "execution_count": 32,
   "metadata": {},
   "outputs": [
    {
     "data": {
      "text/plain": [
       "<matplotlib.axes._subplots.AxesSubplot at 0x138028e10>"
      ]
     },
     "execution_count": 32,
     "metadata": {},
     "output_type": "execute_result"
    },
    {
     "data": {
      "image/png": "[encoded data removed]",
      "text/plain": [
       "<Figure size 432x288 with 1 Axes>"
      ]
     },
     "metadata": {
      "needs_background": "light"
     },
     "output_type": "display_data"
    }
   ],
   "source": [
    "genres_distribution = data['genre'].value_counts()\n",
    "genres_distribution.plot.bar()"
   ]
  },
  {
   "cell_type": "code",
   "execution_count": 33,
   "metadata": {},
   "outputs": [
    {
     "data": {
      "text/plain": [
       "0         384\n",
       "1         220\n",
       "2         116\n",
       "3         436\n",
       "4         280\n",
       "         ... \n",
       "362232    280\n",
       "362233    175\n",
       "362234    213\n",
       "362235    145\n",
       "362236    287\n",
       "Name: lyrics, Length: 266556, dtype: int64"
      ]
     },
     "execution_count": 33,
     "metadata": {},
     "output_type": "execute_result"
    }
   ],
   "source": [
    "(raw_data.dropna())['lyrics'].apply(lambda lyrics: len(lyrics.split(\" \")) if lyrics is not None else 0)\n"
   ]
  },
  {
   "cell_type": "markdown",
   "metadata": {},
   "source": [
    "## Word level generation"
   ]
  },
  {
   "cell_type": "markdown",
   "metadata": {},
   "source": [
    "### Data engineering"
   ]
  },
  {
   "cell_type": "code",
   "execution_count": 442,
   "metadata": {},
   "outputs": [
    {
     "name": "stderr",
     "output_type": "stream",
     "text": [
      "INFO - 10:35:49: loading Word2Vec object from 300features_40minwords_10context.wv.model\n",
      "INFO - 10:35:50: loading wv recursively from 300features_40minwords_10context.wv.model.wv.* with mmap=None\n",
      "INFO - 10:35:50: setting ignored attribute vectors_norm to None\n",
      "INFO - 10:35:50: loading vocabulary recursively from 300features_40minwords_10context.wv.model.vocabulary.* with mmap=None\n",
      "INFO - 10:35:50: loading trainables recursively from 300features_40minwords_10context.wv.model.trainables.* with mmap=None\n",
      "INFO - 10:35:50: setting ignored attribute cum_table to None\n",
      "INFO - 10:35:50: loaded 300features_40minwords_10context.wv.model\n"
     ]
    }
   ],
   "source": [
    "from gensim.models import Word2Vec\n",
    "\n",
    "# load the w2v model\n",
    "w2v_model = Word2Vec.load(\"300features_40minwords_10context.wv.model\")"
   ]
  },
  {
   "cell_type": "markdown",
   "metadata": {},
   "source": [
    "### Prepare data for trainings"
   ]
  },
  {
   "cell_type": "code",
   "execution_count": 443,
   "metadata": {},
   "outputs": [],
   "source": [
    "BATCH_SIZE=16\n",
    "VOCAB_SIZE = len(w2v_model.wv.vocab)"
   ]
  },
  {
   "cell_type": "code",
   "execution_count": 444,
   "metadata": {},
   "outputs": [],
   "source": [
    "import numpy as np\n",
    "import re\n",
    "from nltk.corpus import stopwords"
   ]
  },
  {
   "cell_type": "code",
   "execution_count": 445,
   "metadata": {},
   "outputs": [],
   "source": [
    "def process_document(text, remove_panctuations=True, \n",
    "                        remove_stopwords=True, remove_unknown_words=True, fix_length=200):\n",
    "    \n",
    "    if remove_panctuations:\n",
    "      text = re.sub(\"[^a-zA-Z0-9]\",\" \", text)\n",
    "    #\n",
    "    # Convert words to lower case and split them\n",
    "    words = text.lower().split()\n",
    "    #\n",
    "    # Optionally remove stop words (false by default)\n",
    "    if remove_stopwords:\n",
    "        stops = set(stopwords.words(\"english\"))\n",
    "        words = [w for w in words if not w.lower() in stops]  \n",
    "        \n",
    "    if remove_unknown_words:\n",
    "        words = [w for w in words if w in w2v_model.wv]\n",
    "        \n",
    "    if len(words) < fix_length:\n",
    "        words += ([PAD] * (fix_length - len(words)))\n",
    "    elif len(words) > fix_length:\n",
    "        words = words[:fix_length]\n",
    "        \n",
    "#     processed_document = \" \".join(words)\n",
    "    return words\n",
    "\n",
    "def tokenizer(text, **kwargs): # create a tokenizer function\n",
    "    return process_document(text, **kwargs) #[tok.text for tok in spacy_en.tokenizer(process_document(text))]"
   ]
  },
  {
   "cell_type": "code",
   "execution_count": 446,
   "metadata": {},
   "outputs": [],
   "source": [
    "from torch.utils.data import Dataset, DataLoader, random_split\n",
    "\n",
    "class SongsGenerationDataset(Dataset):\n",
    "    \"\"\"Face Landmarks dataset.\"\"\"\n",
    "\n",
    "    def __init__(self, df, batch_size, vocab_size):\n",
    "        \"\"\"\n",
    "        Args:\n",
    "            df (pandas.DataFrame): DataFrame object\n",
    "        \"\"\"\n",
    "        self.vocab_size = vocab_size\n",
    "        \n",
    "        lyrics = df['lyrics'].values\n",
    "        lyrics = [tokenizer(text, fix_length=-1) for text in lyrics]\n",
    "        lyrics = [word for words in lyrics for word in words] # flatten list\n",
    "        # Next step, we will convert word tokens into integer indices. \n",
    "        # These will be the input to the network. And because we will train a mini-batch each iteration, \n",
    "        # we should be able to split the data into batches evenly. \n",
    "        # We can assure that by chopping out the last uneven batch\n",
    "        lyrics = [w2v_model.wv.vocab[word].index for word in lyrics]\n",
    "        batches_number = (int)(len(lyrics) / batch_size)\n",
    "        lyrics = lyrics[:(batch_size * batches_number)]\n",
    "        print(len(lyrics))\n",
    "        print(batches_number)\n",
    "        print(batch_size)\n",
    "        \n",
    "        self.words_in = lyrics\n",
    "        self.words_out = np.zeros_like(self.words_in)\n",
    "        self.words_out[:-1] = self.words_in[1:]\n",
    "        self.words_out[-1] = self.words_in[0]\n",
    "\n",
    "    def __len__(self):\n",
    "        return len(self.words_in)\n",
    "\n",
    "    def __getitem__(self, idx):\n",
    "        text = self.words_in[idx]\n",
    "#         label = np.zeros(self.vocab_size)\n",
    "#         label[self.words_out[idx]] = 1\n",
    "        label = self.words_out[idx]\n",
    "\n",
    "        sample = (torch.tensor(text), torch.tensor(label))\n",
    "\n",
    "        return sample"
   ]
  },
  {
   "cell_type": "code",
   "execution_count": 447,
   "metadata": {},
   "outputs": [
    {
     "name": "stdout",
     "output_type": "stream",
     "text": [
      "87232\n",
      "5452\n",
      "16\n"
     ]
    }
   ],
   "source": [
    "dataset = SongsGenerationDataset(data[data[\"genre\"] == \"Country\"][:1000], BATCH_SIZE, VOCAB_SIZE)\n",
    "\n",
    "train_size = int(0.8 * len(dataset))\n",
    "val_size = len(dataset) - train_size\n",
    "train_data, val_data = random_split(dataset, [train_size, val_size])\n",
    "\n",
    "train_loader = DataLoader(train_data, batch_size=BATCH_SIZE, shuffle=True)\n",
    "val_loader = DataLoader(val_data, batch_size=BATCH_SIZE, shuffle=True)"
   ]
  },
  {
   "cell_type": "code",
   "execution_count": 448,
   "metadata": {},
   "outputs": [
    {
     "data": {
      "text/plain": [
       "(tensor(304), tensor(525))"
      ]
     },
     "execution_count": 448,
     "metadata": {},
     "output_type": "execute_result"
    }
   ],
   "source": [
    "dataset.__getitem__(1)"
   ]
  },
  {
   "cell_type": "markdown",
   "metadata": {},
   "source": [
    "### Model definition"
   ]
  },
  {
   "cell_type": "code",
   "execution_count": 449,
   "metadata": {},
   "outputs": [],
   "source": [
    "class LSTM2(nn.Module):\n",
    "    def __init__(self, n_vocab, embedding_size, hidden_size, weights, batch_size, freeze_embeddings=True):\n",
    "        super(LSTM2, self).__init__()\n",
    "    \n",
    "        self.hidden_size = hidden_size\n",
    "        self.batch_size = batch_size\n",
    "        self.num_layers = 1\n",
    "        \n",
    "        if weights is not None:\n",
    "            self.word_embeddings = nn.Embedding.from_pretrained(torch.FloatTensor(weights), freeze=freeze_embeddings)\n",
    "        else:\n",
    "            self.word_embeddings = nn.Embedding(n_vocab, embedding_size)\n",
    "            \n",
    "        self.lstm = nn.LSTM(input_size=embedding_size, hidden_size=hidden_size, num_layers=self.num_layers)\n",
    "    \n",
    "        self.dense = nn.Linear(hidden_size, n_vocab)\n",
    "        \n",
    "        self.softmax = nn.Softmax(dim=1)\n",
    "        \n",
    "    def forward(self, x, prev_state):\n",
    "        embed = self.word_embeddings(x)\n",
    "        output, state = self.lstm(embed, prev_state)\n",
    "        output = self.dense(output)\n",
    "        output = self.softmax(output)\n",
    "        return output, state\n",
    "    \n",
    "    def init_hidden(self):\n",
    "        return (torch.zeros(self.num_layers, self.batch_size, self.hidden_size),\n",
    "                torch.zeros(self.num_layers, self.batch_size, self.hidden_size))"
   ]
  },
  {
   "cell_type": "code",
   "execution_count": 450,
   "metadata": {},
   "outputs": [],
   "source": [
    "# instantiate a model\n",
    "VOCAB_SIZE = len(w2v_model.wv.vocab)\n",
    "EMBED_DIM = 300\n",
    "HIDDEN_SIZE =32\n",
    "weights =  w2v_model.wv.vectors #TEXT.vocab.vectors\n",
    "\n",
    "model = LSTM2(n_vocab=VOCAB_SIZE, embedding_size=EMBED_DIM, hidden_size=HIDDEN_SIZE, batch_size=BATCH_SIZE, weights=weights)"
   ]
  },
  {
   "cell_type": "markdown",
   "metadata": {},
   "source": [
    "### Functions to train and evaluate"
   ]
  },
  {
   "cell_type": "code",
   "execution_count": 451,
   "metadata": {},
   "outputs": [],
   "source": [
    "def clip_gradient(model, clip_value):\n",
    "    params = list(filter(lambda p: p.grad is not None, model.parameters()))\n",
    "    for p in params:\n",
    "        p.grad.data.clamp_(-clip_value, clip_value)\n",
    "        \n",
    "def binary_accuracy(preds, y):\n",
    "    \"\"\"\n",
    "    Returns accuracy per batch, i.e. if you get 8/10 right, this returns 0.8, NOT 8\n",
    "    \"\"\"\n",
    "    \n",
    "    winners = preds.argmax(dim=1)\n",
    "    correct = (winners == y).float() #convert into float for division \n",
    "    acc = correct.sum() / len(correct)\n",
    "    return acc\n",
    "\n",
    "def train(model, loader, optimizer, criterion):\n",
    "    \n",
    "    epoch_loss = 0\n",
    "    epoch_acc = 0\n",
    "    \n",
    "    model.train()\n",
    "    \n",
    "    state_h, state_c = model.init_hidden()\n",
    "    \n",
    "    for index, (x, y) in enumerate(loader):\n",
    "        x = x.unsqueeze(0)\n",
    "        y = torch.autograd.Variable(y).long()\n",
    "        \n",
    "        if x.shape[1] != BATCH_SIZE:\n",
    "            print(\"x.shape\", x.shape)\n",
    "            continue\n",
    "        else:\n",
    "            optimizer.zero_grad()\n",
    "        \n",
    "            predictions, (state_h, state_c) = model(x, (state_h, state_c))\n",
    "            predictions = torch.squeeze(predictions, 0)\n",
    "        \n",
    "            loss = criterion(predictions, y)\n",
    "            acc = binary_accuracy(predictions, y)\n",
    "        \n",
    "            loss.backward(retain_graph=True)\n",
    "            optimizer.step()\n",
    "        \n",
    "            epoch_loss += loss.item()\n",
    "            epoch_acc += acc.item()\n",
    "        \n",
    "    return epoch_loss / len(loader), epoch_acc / len(loader)\n",
    "\n",
    "def evaluate(model, loader, criterion):\n",
    "    epoch_loss = 0\n",
    "    epoch_acc = 0\n",
    "    \n",
    "    model.eval()\n",
    "    \n",
    "    state_h, state_c = model.init_hidden()\n",
    "    \n",
    "    with torch.no_grad():\n",
    "        \n",
    "        for index, (x, y) in enumerate(loader):\n",
    "            x = x.unsqueeze(0)\n",
    "            \n",
    "            if x.shape[1] != BATCH_SIZE:\n",
    "                print(\"x.shape\", x.shape)\n",
    "                continue\n",
    "                \n",
    "            predictions, (state_h, state_c) = model(x, (state_h, state_c))\n",
    "            predictions = torch.squeeze(predictions, 0)\n",
    "            \n",
    "            loss = criterion(predictions, y)\n",
    "            acc = binary_accuracy(predictions, y)\n",
    "            \n",
    "            epoch_loss += loss.item()\n",
    "            epoch_acc += acc.item()\n",
    "\n",
    "    return epoch_loss / len(loader), epoch_acc / len(loader)"
   ]
  },
  {
   "cell_type": "markdown",
   "metadata": {},
   "source": [
    "### Train the network"
   ]
  },
  {
   "cell_type": "code",
   "execution_count": null,
   "metadata": {},
   "outputs": [],
   "source": [
    "import torch.optim as optim\n",
    "import time\n",
    "\n",
    "device = torch.device('cuda' if torch.cuda.is_available() else 'cpu')\n",
    "\n",
    "N_EPOCHS = 5\n",
    "\n",
    "optimizer = optim.Adam(model.parameters())\n",
    "criterion = nn.NLLLoss()\n",
    "\n",
    "best_val_loss = float('inf')\n",
    "\n",
    "all_train_losses = []\n",
    "all_val_losses = []\n",
    "train_accuracy = []\n",
    "val_accuracy = []\n",
    "\n",
    "for epoch in range(N_EPOCHS):\n",
    "\n",
    "    start_time = time.time()\n",
    "    \n",
    "    train_loss, train_acc = train(model, train_loader, optimizer, criterion)\n",
    "    all_train_losses.append(train_loss)\n",
    "    train_accuracy.append(train_acc)\n",
    "\n",
    "    val_loss, val_acc = evaluate(model, val_loader, criterion)\n",
    "    all_val_losses.append(val_loss)\n",
    "    val_accuracy.append(val_acc)\n",
    "    \n",
    "    end_time = time.time()\n",
    "\n",
    "    epoch_mins, epoch_secs = epoch_time(start_time, end_time)\n",
    "    \n",
    "    if val_loss < best_val_loss:\n",
    "        best_val_loss = val_loss\n",
    "        torch.save(model.state_dict(), 'lstm-gen-best-model.model')\n",
    "    \n",
    "    print(f'Epoch: {epoch+1:02} | Epoch Time: {epoch_mins}m {epoch_secs}s')\n",
    "    print(f'\\tTrain Loss: {train_loss:.3f} | Train Acc: {train_acc*100:.2f}%')\n",
    "    print(f'\\t Val. Loss: {val_loss:.3f} |  Val. Acc: {val_acc*100:.2f}%')"
   ]
  },
  {
   "cell_type": "code",
   "execution_count": 170,
   "metadata": {},
   "outputs": [
    {
     "name": "stdout",
     "output_type": "stream",
     "text": [
      "300features_40minwords_10context.wv.model\r\n",
      "380000-lyrics-from-metrolyrics.zip\r\n",
      "DL_rnn_text_classification_generation.ipynb\r\n",
      "DL_word_embedding_assignment.ipynb\r\n",
      "README.md\r\n",
      "best-model.model\r\n",
      "best-model.pt\r\n",
      "cnn.py\r\n",
      "environment.yml\r\n",
      "lstm-gen-best-model.model\r\n",
      "lstm-gen-best-model.pt\r\n",
      "\u001b[1m\u001b[36mproject-tv-script-generation\u001b[m\u001b[m\r\n",
      "test.csv\r\n",
      "train.csv\r\n",
      "val.csv\r\n"
     ]
    }
   ],
   "source": [
    "!ls"
   ]
  },
  {
   "cell_type": "markdown",
   "metadata": {},
   "source": [
    "### Inference"
   ]
  },
  {
   "cell_type": "code",
   "execution_count": 87,
   "metadata": {},
   "outputs": [],
   "source": [
    "def predict(w, model, length, top_k=5):\n",
    "    model.eval()\n",
    "    words = [w]\n",
    "    state_h, state_c = (torch.zeros(1, 1, 32), torch.zeros(1, 1, 32))\n",
    "    \n",
    "    for _ in range(length):\n",
    "        x = torch.tensor([w2v_model.wv.vocab[w].index])\n",
    "        x = x.unsqueeze(0)\n",
    "        output, (state_h, state_c) = model(x, (state_h, state_c))\n",
    "    \n",
    "        _, top_index = torch.topk(output[0], k=top_k)\n",
    "        choices = top_index.tolist()\n",
    "        choice = np.random.choice(choices[0])\n",
    "        w = w2v_model.wv.index2word[choice]\n",
    "        words.append(w) #w2v_model.wv.vocab[choice])\n",
    "\n",
    "    print(' '.join(words))"
   ]
  },
  {
   "cell_type": "code",
   "execution_count": 88,
   "metadata": {},
   "outputs": [
    {
     "name": "stdout",
     "output_type": "stream",
     "text": [
      "dog i the and i the i and and the to i i and and i the the you to you i to and to to the the you you you to you and the and to you i to i and you and to and and the the i the\n"
     ]
    }
   ],
   "source": [
    "predict('dog', model, 50)"
   ]
  },
  {
   "cell_type": "markdown",
   "metadata": {},
   "source": [
    "# Char level generator"
   ]
  },
  {
   "cell_type": "markdown",
   "metadata": {},
   "source": [
    "### Prepare data for trainings"
   ]
  },
  {
   "cell_type": "code",
   "execution_count": 361,
   "metadata": {},
   "outputs": [
    {
     "name": "stdout",
     "output_type": "stream",
     "text": [
      "55\n"
     ]
    }
   ],
   "source": [
    "import os\n",
    "import unicodedata\n",
    "import string\n",
    "\n",
    "all_letters = string.ascii_letters + \" \\n\" #\" .,;'-\\n\"\n",
    "n_letters = len(all_letters) + 1 # Plus EOSong marker\n",
    "print(n_letters)"
   ]
  },
  {
   "cell_type": "code",
   "execution_count": 362,
   "metadata": {},
   "outputs": [
    {
     "data": {
      "text/plain": [
       "'\\n'"
      ]
     },
     "execution_count": 362,
     "metadata": {},
     "output_type": "execute_result"
    }
   ],
   "source": [
    "all_letters[len(all_letters) - 1]"
   ]
  },
  {
   "cell_type": "code",
   "execution_count": 363,
   "metadata": {},
   "outputs": [],
   "source": [
    "def unicodeToAscii(s):\n",
    "    \"\"\"\n",
    "    Turn a Unicode string to plain ASCII, thanks to https://stackoverflow.com/a/518232/2809427\n",
    "    \"\"\"\n",
    "    return ''.join(\n",
    "        c for c in unicodedata.normalize('NFD', s)\n",
    "        if unicodedata.category(c) != 'Mn'\n",
    "        and c in all_letters\n",
    "    )\n",
    "\n",
    "def readLyrics(lyrics):\n",
    "    return unicodeToAscii(lyrics)\n",
    "\n",
    "genre_lyrics = {}\n",
    "all_genres = []\n",
    "\n",
    "for _, song in data[data[\"genre\"] == \"Country\"][:1000].iterrows():\n",
    "    genre = song[\"genre\"]\n",
    "    all_genres.append(genre)\n",
    "    lyrics = readLyrics(song[\"lyrics\"])\n",
    "    genre_lyrics[genre] = lyrics\n",
    "\n",
    "n_genres = len(all_genres)"
   ]
  },
  {
   "cell_type": "markdown",
   "metadata": {},
   "source": [
    "### The model"
   ]
  },
  {
   "cell_type": "code",
   "execution_count": 364,
   "metadata": {},
   "outputs": [],
   "source": [
    "import torch\n",
    "import torch.nn as nn\n",
    "\n",
    "\n",
    "class CharLSTM(nn.Module):\n",
    "    def __init__(self, input_size, hidden_size, output_size, n_layers=1):\n",
    "        super(CharLSTM, self).__init__()\n",
    "        \n",
    "        self.input_size = input_size\n",
    "        self.hidden_size = hidden_size\n",
    "        self.output_size = output_size\n",
    "        self.n_layers = n_layers\n",
    "\n",
    "        self.encoder = nn.Embedding(input_size, hidden_size)\n",
    "        \n",
    "        self.lstm = nn.LSTM(hidden_size, hidden_size, n_layers)\n",
    "            \n",
    "        self.decoder = nn.Linear(hidden_size, output_size)\n",
    "\n",
    "    def forward(self, input, hidden):\n",
    "        batch_size = input.size(0)\n",
    "        encoded = self.encoder(input)\n",
    "        output, hidden = self.lstm(encoded, hidden)\n",
    "        output = self.decoder(output)\n",
    "        return output, hidden\n",
    "\n",
    "    def init_hidden(self, batch_size):\n",
    "        return (torch.zeros(self.n_layers, batch_size, self.hidden_size),\n",
    "                torch.zeros(self.n_layers, batch_size, self.hidden_size))\n",
    "\n"
   ]
  },
  {
   "cell_type": "markdown",
   "metadata": {},
   "source": [
    "### Train\n",
    "\n",
    "#### Prepare for training"
   ]
  },
  {
   "cell_type": "code",
   "execution_count": 365,
   "metadata": {},
   "outputs": [],
   "source": [
    "# One-hot vector for category\n",
    "def genre_tensor(genre):\n",
    "    idx = all_genres.index(genre)\n",
    "    tensor = torch.zeros(1, n_genres)\n",
    "    tensor[0][idx] = 1\n",
    "    return tensor\n",
    "\n",
    "# One-hot matrix of first to last letters (not including EOS) for input\n",
    "def input_tensor(lyrics):\n",
    "    tensor = torch.zeros([len(lyrics), 1, n_letters], dtype=torch.long)\n",
    "    for idx in range(len(lyrics)):\n",
    "        letter = lyrics[idx]\n",
    "        tensor[idx][0][all_letters.find(letter)] = 1\n",
    "    print(tensor)\n",
    "    return tensor\n",
    "\n",
    "# LongTensor of second letter to end (EOS) for target\n",
    "def target_tensor(lyrics):\n",
    "    letter_indexes = [all_letters.find(lyrics[idx]) for idx in range(1, len(lyrics))] # begin from index 1\n",
    "    letter_indexes.append(n_letters - 1) # EOSong\n",
    "    return torch.LongTensor(letter_indexes)"
   ]
  },
  {
   "cell_type": "code",
   "execution_count": 366,
   "metadata": {},
   "outputs": [],
   "source": [
    "import random\n",
    "\n",
    "# Random item from a list\n",
    "def random_choice(l):\n",
    "    return l[random.randint(0, len(l) - 1)]\n",
    "\n",
    "# Get a random category and random line from that category\n",
    "def random_training_pair():\n",
    "    genre = random_choice(all_genres)\n",
    "    lyrics = random_choice(genre_lyrics[genre])\n",
    "    return genre, lyrics"
   ]
  },
  {
   "cell_type": "code",
   "execution_count": 367,
   "metadata": {},
   "outputs": [],
   "source": [
    "def random_training_example():\n",
    "    genre, lyrics = random_training_pair()\n",
    "    input_genre_tensor = genre_tensor(genre)\n",
    "    input_lyrics_tensor = input_tensor(lyrics)\n",
    "    target_lyrics_tensor = target_tensor(lyrics)\n",
    "    return genre_tensor, input_lyrics_tensor, target_lyrics_tensor"
   ]
  },
  {
   "cell_type": "code",
   "execution_count": 368,
   "metadata": {},
   "outputs": [
    {
     "name": "stdout",
     "output_type": "stream",
     "text": [
      "[8, 52, 11, 14, 21, 4, 52, 1, 0, 13, 0, 13, 0, 53]\n",
      "[52, 11, 14, 21, 4, 52, 1, 0, 13, 0, 13, 0, 53, 54]\n"
     ]
    }
   ],
   "source": [
    "str = 'i love banana\\n'\n",
    "print([all_letters.find(str[idx]) for idx in range(0, len(str))] )\n",
    "print([all_letters.find(str[idx]) for idx in range(1, len(str))] + [n_letters - 1] )"
   ]
  },
  {
   "cell_type": "code",
   "execution_count": 369,
   "metadata": {},
   "outputs": [],
   "source": [
    "import re\n",
    "from torch.utils.data import Dataset, DataLoader, random_split\n",
    "\n",
    "class SongsCharactersDataset(Dataset):\n",
    "    \"\"\"Face Landmarks dataset.\"\"\"\n",
    "\n",
    "    def __init__(self, songs, batch_size):\n",
    "        \"\"\"\n",
    "        Args:\n",
    "            songs (pandas.DataFrame): DataFrame object\n",
    "        \"\"\"\n",
    "        self.input = []\n",
    "        self.target = []\n",
    "        \n",
    "        for lyrics in songs['lyrics']:\n",
    "            lyrics = lyrics.lower().strip()\n",
    "            lyrics = re.sub(\"[^a-zA-Z\\s\\n]\",\" \", lyrics)\n",
    "            self.input += [all_letters.find(lyrics[idx]) for idx in range(0, len(lyrics))] \n",
    "            self.target += [all_letters.find(lyrics[idx]) for idx in range(1, len(lyrics))] # begin from index 1\n",
    "            self.target += [n_letters - 1] # EOSong\n",
    "            \n",
    "        batches_number = (int)(len(self.input) / batch_size)\n",
    "        limit = (batch_size * batches_number)\n",
    "        self.input = self.input[:limit]\n",
    "        self.target = self.target[:limit]\n",
    "\n",
    "    def __len__(self):\n",
    "        return len(self.input)\n",
    "\n",
    "    def __getitem__(self, idx):\n",
    "        in_c = self.input[idx]\n",
    "        out_c = self.target[idx]\n",
    "        item = (torch.tensor(in_c), torch.tensor(out_c))\n",
    "        return item"
   ]
  },
  {
   "cell_type": "markdown",
   "metadata": {},
   "source": [
    "#### Training the network"
   ]
  },
  {
   "cell_type": "code",
   "execution_count": 420,
   "metadata": {},
   "outputs": [],
   "source": [
    "def clip_gradient(model, clip_value):\n",
    "    params = list(filter(lambda p: p.grad is not None, model.parameters()))\n",
    "    for p in params:\n",
    "        p.grad.data.clamp_(-clip_value, clip_value)\n",
    "        \n",
    "def binary_accuracy(preds, y):\n",
    "    \"\"\"\n",
    "    Returns accuracy per batch, i.e. if you get 8/10 right, this returns 0.8, NOT 8\n",
    "    \"\"\"\n",
    "    \n",
    "    winners = preds.argmax(dim=1)\n",
    "    correct = (winners == y).float() #convert into float for division \n",
    "    acc = correct.sum() / len(correct)\n",
    "    return acc\n",
    "\n",
    "def train(model, loader, optimizer, criterion):\n",
    "    \n",
    "    epoch_loss = 0\n",
    "    epoch_acc = 0\n",
    "    \n",
    "    model.train()\n",
    "    \n",
    "    state_h, state_c = model.init_hidden(BATCH_SIZE)\n",
    "    \n",
    "    for index, (x, y) in enumerate(loader):\n",
    "        x = x.unsqueeze(0)\n",
    "        y = torch.autograd.Variable(y).long()\n",
    "        \n",
    "        if x.shape[1] != BATCH_SIZE:\n",
    "            continue\n",
    "        else:\n",
    "            optimizer.zero_grad()\n",
    "            predictions, (state_h, state_c) = model(x, (state_h, state_c))\n",
    "            predictions = torch.squeeze(predictions, 0)\n",
    "            \n",
    "            loss = criterion(predictions, y)\n",
    "            acc = binary_accuracy(predictions, y)\n",
    "        \n",
    "            loss.backward(retain_graph=True)\n",
    "            optimizer.step()\n",
    "        \n",
    "            epoch_loss += loss.item()\n",
    "            epoch_acc += acc.item()\n",
    "        \n",
    "    return epoch_loss / len(loader), epoch_acc / len(loader)\n",
    "\n",
    "def evaluate(model, loader, criterion):\n",
    "    epoch_loss = 0\n",
    "    epoch_acc = 0\n",
    "    \n",
    "    model.eval()\n",
    "    \n",
    "    state_h, state_c = model.init_hidden(BATCH_SIZE)\n",
    "    \n",
    "    with torch.no_grad():\n",
    "        \n",
    "        for index, (x, y) in enumerate(loader):\n",
    "            x = x.unsqueeze(0)\n",
    "            \n",
    "            if x.shape[1] != BATCH_SIZE:\n",
    "                continue\n",
    "                \n",
    "            predictions, (state_h, state_c) = model(x, (state_h, state_c))\n",
    "            predictions = torch.squeeze(predictions, 0)\n",
    "            \n",
    "            loss = criterion(predictions, y)\n",
    "            acc = binary_accuracy(predictions, y)\n",
    "            \n",
    "            epoch_loss += loss.item()\n",
    "            epoch_acc += acc.item()\n",
    "\n",
    "    return epoch_loss / len(loader), epoch_acc / len(loader)"
   ]
  },
  {
   "cell_type": "markdown",
   "metadata": {},
   "source": [
    "### Train"
   ]
  },
  {
   "cell_type": "code",
   "execution_count": 421,
   "metadata": {},
   "outputs": [],
   "source": [
    "BATCH_SIZE = 32\n",
    "\n",
    "model = CharLSTM(input_size=n_letters, hidden_size=128, output_size=n_letters)"
   ]
  },
  {
   "cell_type": "code",
   "execution_count": 422,
   "metadata": {},
   "outputs": [],
   "source": [
    "import time\n",
    "import math\n",
    "\n",
    "def timeSince(since):\n",
    "    now = time.time()\n",
    "    s = now - since\n",
    "    m = math.floor(s / 60)\n",
    "    s -= m * 60\n",
    "    return '%dm %ds' % (m, s)\n",
    "\n",
    "def epoch_time(start_time, end_time):\n",
    "    elapsed_time = end_time - start_time\n",
    "    elapsed_mins = int(elapsed_time / 60)\n",
    "    elapsed_secs = int(elapsed_time - (elapsed_mins * 60))\n",
    "    return elapsed_mins, elapsed_secs"
   ]
  },
  {
   "cell_type": "code",
   "execution_count": 423,
   "metadata": {},
   "outputs": [],
   "source": [
    "dataset = SongsCharactersDataset(data[data[\"genre\"] == \"Country\"][:10], BATCH_SIZE)\n",
    "\n",
    "train_size = int(0.8 * len(dataset))\n",
    "val_size = len(dataset) - train_size\n",
    "train_data, val_data = random_split(dataset, [train_size, val_size])\n",
    "\n",
    "train_loader = DataLoader(train_data, batch_size=BATCH_SIZE, shuffle=True)\n",
    "val_loader = DataLoader(val_data, batch_size=BATCH_SIZE, shuffle=True)"
   ]
  },
  {
   "cell_type": "code",
   "execution_count": 424,
   "metadata": {},
   "outputs": [
    {
     "data": {
      "text/plain": [
       "(tensor(52), tensor(2))"
      ]
     },
     "execution_count": 424,
     "metadata": {},
     "output_type": "execute_result"
    }
   ],
   "source": [
    "dataset.__getitem__(98)"
   ]
  },
  {
   "cell_type": "code",
   "execution_count": 425,
   "metadata": {},
   "outputs": [
    {
     "name": "stdout",
     "output_type": "stream",
     "text": [
      "Epoch: 01 | Epoch Time: 0m 15s\n",
      "\tTrain Loss: 2.710 | Train Acc: 22.95%\n",
      "\t Val. Loss: 2.449 |  Val. Acc: 25.87%\n",
      "Epoch: 02 | Epoch Time: 0m 15s\n",
      "\tTrain Loss: 2.415 | Train Acc: 25.64%\n",
      "\t Val. Loss: 2.384 |  Val. Acc: 25.75%\n",
      "Epoch: 03 | Epoch Time: 0m 15s\n",
      "\tTrain Loss: 2.378 | Train Acc: 26.02%\n",
      "\t Val. Loss: 2.373 |  Val. Acc: 25.93%\n",
      "Epoch: 04 | Epoch Time: 0m 15s\n",
      "\tTrain Loss: 2.358 | Train Acc: 26.06%\n",
      "\t Val. Loss: 2.358 |  Val. Acc: 23.84%\n",
      "Epoch: 05 | Epoch Time: 0m 15s\n",
      "\tTrain Loss: 2.349 | Train Acc: 25.73%\n",
      "\t Val. Loss: 2.369 |  Val. Acc: 25.52%\n"
     ]
    }
   ],
   "source": [
    "import torch.optim as optim\n",
    "import time\n",
    "\n",
    "device = torch.device('cuda' if torch.cuda.is_available() else 'cpu')\n",
    "\n",
    "N_EPOCHS = 5\n",
    "\n",
    "optimizer = optim.Adam(model.parameters())\n",
    "criterion = nn.CrossEntropyLoss()\n",
    "\n",
    "best_val_loss = float('inf')\n",
    "\n",
    "all_train_losses = []\n",
    "all_val_losses = []\n",
    "train_accuracy = []\n",
    "val_accuracy = []\n",
    "\n",
    "for epoch in range(N_EPOCHS):\n",
    "\n",
    "    start_time = time.time()\n",
    "    \n",
    "    train_loss, train_acc = train(model, train_loader, optimizer, criterion)\n",
    "    all_train_losses.append(train_loss)\n",
    "    train_accuracy.append(train_acc)\n",
    "\n",
    "    val_loss, val_acc = evaluate(model, val_loader, criterion)\n",
    "    all_val_losses.append(val_loss)\n",
    "    val_accuracy.append(val_acc)\n",
    "    \n",
    "    end_time = time.time()\n",
    "\n",
    "    epoch_mins, epoch_secs = epoch_time(start_time, end_time)\n",
    "    \n",
    "    if val_loss < best_val_loss:\n",
    "        best_val_loss = val_loss\n",
    "        torch.save(model.state_dict(), 'lstm-gen-best-model.model')\n",
    "    \n",
    "    print(f'Epoch: {epoch+1:02} | Epoch Time: {epoch_mins}m {epoch_secs}s')\n",
    "    print(f'\\tTrain Loss: {train_loss:.3f} | Train Acc: {train_acc*100:.2f}%')\n",
    "    print(f'\\t Val. Loss: {val_loss:.3f} |  Val. Acc: {val_acc*100:.2f}%')"
   ]
  },
  {
   "cell_type": "code",
   "execution_count": 426,
   "metadata": {},
   "outputs": [
    {
     "data": {
      "image/png": "[encoded data removed]",
      "text/plain": [
       "<Figure size 432x288 with 1 Axes>"
      ]
     },
     "metadata": {
      "needs_background": "light"
     },
     "output_type": "display_data"
    }
   ],
   "source": [
    "import matplotlib.pyplot as plt\n",
    "import matplotlib.ticker as ticker\n",
    "\n",
    "plt.figure()\n",
    "plt.plot(all_train_losses, 'r')\n",
    "plt.plot(all_val_losses, 'g')\n",
    "plt.plot(train_accuracy, 'b')\n",
    "plt.plot(val_accuracy, 'y')\n",
    "plt.show()"
   ]
  },
  {
   "cell_type": "markdown",
   "metadata": {},
   "source": [
    "### Sampling"
   ]
  },
  {
   "cell_type": "code",
   "execution_count": 427,
   "metadata": {},
   "outputs": [],
   "source": [
    "max_length = 20\n",
    "\n",
    "# Sample from a category and starting letter\n",
    "def sample(start_letter='A'):\n",
    "    with torch.no_grad():  # no need to track history in sampling\n",
    "        x = torch.tensor([all_letters.find(start_letter)])\n",
    "        x = x.unsqueeze(0)\n",
    "        print(x)\n",
    "        hidden = model.init_hidden(BATCH_SIZE)\n",
    "\n",
    "        output_name = start_letter\n",
    "\n",
    "        for i in range(max_length):\n",
    "            output, hidden = model([x], hidden)\n",
    "            topv, topi = output.topk(1)\n",
    "            topi = topi[0][0]\n",
    "            if topi == n_letters - 1:\n",
    "                break\n",
    "            else:\n",
    "                letter = all_letters[topi]\n",
    "                output_name += letter\n",
    "            input = input_tensor(letter)\n",
    "\n",
    "        return output_name\n",
    "\n",
    "# Get multiple samples from one category and multiple starting letters\n",
    "def samples(category, start_letters='ABC'):\n",
    "    for start_letter in start_letters:\n",
    "        print(sample(start_letter))"
   ]
  },
  {
   "cell_type": "code",
   "execution_count": 428,
   "metadata": {},
   "outputs": [],
   "source": [
    "import numpy as np\n",
    "\n",
    "def predict(l, model, length, top_k=5):\n",
    "    model.eval()\n",
    "    text = [l]\n",
    "    state_h, state_c = (torch.zeros(1, 1, 128), torch.zeros(1, 1, 128))\n",
    "    \n",
    "    for _ in range(length):\n",
    "        x = torch.tensor([all_letters.find(l)])\n",
    "        x = x.unsqueeze(0)\n",
    "        output, (state_h, state_c) = model(x, (state_h, state_c))\n",
    "    \n",
    "        _, top_index = torch.topk(output[0], k=top_k)\n",
    "        choices = top_index.tolist()\n",
    "        choice = np.random.choice(choices[0])\n",
    "        l = all_letters[choice]\n",
    "        text.append(l) #w2v_model.wv.vocab[choice])\n",
    "\n",
    "    print(' '.join(text))"
   ]
  },
  {
   "cell_type": "code",
   "execution_count": 429,
   "metadata": {},
   "outputs": [
    {
     "name": "stdout",
     "output_type": "stream",
     "text": [
      "l i s \n",
      " t \n",
      " i s s t h   i t o n g \n",
      " a t \n",
      " w   w o n d s \n",
      " a n e t i s o n d   i   w a r e t   i n   i   s \n",
      " w e a t o n d e s \n",
      " o r   a r i n g   i n o u t   w   i f   s o r   t h o r   t   w   s   a t\n"
     ]
    }
   ],
   "source": [
    "predict('l', model, 100)"
   ]
  },
  {
   "cell_type": "code",
   "execution_count": null,
   "metadata": {},
   "outputs": [],
   "source": []
  },
  {
   "cell_type": "markdown",
   "metadata": {},
   "source": [
    "### Final Tips\n",
    "As a final tip, I do encourage you to do most of the work first on your local machine. They say that Data Scientists spend 80% of their time cleaning the data and preparing it for training (and 20% complaining about cleaning the data and preparing it). Handling these parts on your local machine usually mean you will spend less time complaining. You can switch to the cloud once your code runs and your pipeline is in place, for the actual training using a GPU.  \n",
    "\n",
    "I also encourage you to use a small subset of the dataset first, so things run smoothly. The Metrolyrics dataset contains over 300k songs. You can start with a much much smaller set (even 3,000 songs) and try to train a network based on it. Once everything runs properly, add more data. \n",
    "\n",
    "Good luck!  \n",
    "Omri"
   ]
  }
 ],
 "metadata": {
  "anaconda-cloud": {},
  "kernelspec": {
   "display_name": "Python [conda env:biu-python] *",
   "language": "python",
   "name": "conda-env-biu-python-py"
  },
  "language_info": {
   "codemirror_mode": {
    "name": "ipython",
    "version": 3
   },
   "file_extension": ".py",
   "mimetype": "text/x-python",
   "name": "python",
   "nbconvert_exporter": "python",
   "pygments_lexer": "ipython3",
   "version": "3.6.7"
  }
 },
 "nbformat": 4,
 "nbformat_minor": 2
}
